{
 "cells": [
  {
   "cell_type": "code",
   "execution_count": 1,
   "id": "586a8703",
   "metadata": {},
   "outputs": [],
   "source": [
    "import numpy as np\n",
    "import pandas as pd\n",
    "import matplotlib.pyplot as plt\n",
    "import os"
   ]
  },
  {
   "cell_type": "markdown",
   "id": "64a3791d",
   "metadata": {},
   "source": [
    "# Linear regression with one variable"
   ]
  },
  {
   "cell_type": "code",
   "execution_count": 2,
   "id": "5f1f65e0",
   "metadata": {},
   "outputs": [],
   "source": [
    "path = os.getcwd() + '/ex1data1.txt'\n",
    "data = pd.read_csv(path, header=None, names=['Population', 'Profit'])"
   ]
  },
  {
   "cell_type": "markdown",
   "id": "ef4a938b",
   "metadata": {},
   "source": [
    "### Ex. 1."
   ]
  },
  {
   "cell_type": "code",
   "execution_count": 3,
   "id": "3b967d4f",
   "metadata": {},
   "outputs": [
    {
     "data": {
      "text/html": [
       "<div>\n",
       "<style scoped>\n",
       "    .dataframe tbody tr th:only-of-type {\n",
       "        vertical-align: middle;\n",
       "    }\n",
       "\n",
       "    .dataframe tbody tr th {\n",
       "        vertical-align: top;\n",
       "    }\n",
       "\n",
       "    .dataframe thead th {\n",
       "        text-align: right;\n",
       "    }\n",
       "</style>\n",
       "<table border=\"1\" class=\"dataframe\">\n",
       "  <thead>\n",
       "    <tr style=\"text-align: right;\">\n",
       "      <th></th>\n",
       "      <th>Population</th>\n",
       "      <th>Profit</th>\n",
       "    </tr>\n",
       "  </thead>\n",
       "  <tbody>\n",
       "    <tr>\n",
       "      <th>0</th>\n",
       "      <td>6.1101</td>\n",
       "      <td>17.5920</td>\n",
       "    </tr>\n",
       "    <tr>\n",
       "      <th>1</th>\n",
       "      <td>5.5277</td>\n",
       "      <td>9.1302</td>\n",
       "    </tr>\n",
       "    <tr>\n",
       "      <th>2</th>\n",
       "      <td>8.5186</td>\n",
       "      <td>13.6620</td>\n",
       "    </tr>\n",
       "    <tr>\n",
       "      <th>3</th>\n",
       "      <td>7.0032</td>\n",
       "      <td>11.8540</td>\n",
       "    </tr>\n",
       "    <tr>\n",
       "      <th>4</th>\n",
       "      <td>5.8598</td>\n",
       "      <td>6.8233</td>\n",
       "    </tr>\n",
       "  </tbody>\n",
       "</table>\n",
       "</div>"
      ],
      "text/plain": [
       "   Population   Profit\n",
       "0      6.1101  17.5920\n",
       "1      5.5277   9.1302\n",
       "2      8.5186  13.6620\n",
       "3      7.0032  11.8540\n",
       "4      5.8598   6.8233"
      ]
     },
     "execution_count": 3,
     "metadata": {},
     "output_type": "execute_result"
    }
   ],
   "source": [
    "data.head()"
   ]
  },
  {
   "cell_type": "code",
   "execution_count": 4,
   "id": "b97c600b",
   "metadata": {},
   "outputs": [
    {
     "data": {
      "text/html": [
       "<div>\n",
       "<style scoped>\n",
       "    .dataframe tbody tr th:only-of-type {\n",
       "        vertical-align: middle;\n",
       "    }\n",
       "\n",
       "    .dataframe tbody tr th {\n",
       "        vertical-align: top;\n",
       "    }\n",
       "\n",
       "    .dataframe thead th {\n",
       "        text-align: right;\n",
       "    }\n",
       "</style>\n",
       "<table border=\"1\" class=\"dataframe\">\n",
       "  <thead>\n",
       "    <tr style=\"text-align: right;\">\n",
       "      <th></th>\n",
       "      <th>Population</th>\n",
       "      <th>Profit</th>\n",
       "    </tr>\n",
       "  </thead>\n",
       "  <tbody>\n",
       "    <tr>\n",
       "      <th>count</th>\n",
       "      <td>97.000000</td>\n",
       "      <td>97.000000</td>\n",
       "    </tr>\n",
       "    <tr>\n",
       "      <th>mean</th>\n",
       "      <td>8.159800</td>\n",
       "      <td>5.839135</td>\n",
       "    </tr>\n",
       "    <tr>\n",
       "      <th>std</th>\n",
       "      <td>3.869884</td>\n",
       "      <td>5.510262</td>\n",
       "    </tr>\n",
       "    <tr>\n",
       "      <th>min</th>\n",
       "      <td>5.026900</td>\n",
       "      <td>-2.680700</td>\n",
       "    </tr>\n",
       "    <tr>\n",
       "      <th>25%</th>\n",
       "      <td>5.707700</td>\n",
       "      <td>1.986900</td>\n",
       "    </tr>\n",
       "    <tr>\n",
       "      <th>50%</th>\n",
       "      <td>6.589400</td>\n",
       "      <td>4.562300</td>\n",
       "    </tr>\n",
       "    <tr>\n",
       "      <th>75%</th>\n",
       "      <td>8.578100</td>\n",
       "      <td>7.046700</td>\n",
       "    </tr>\n",
       "    <tr>\n",
       "      <th>max</th>\n",
       "      <td>22.203000</td>\n",
       "      <td>24.147000</td>\n",
       "    </tr>\n",
       "  </tbody>\n",
       "</table>\n",
       "</div>"
      ],
      "text/plain": [
       "       Population     Profit\n",
       "count   97.000000  97.000000\n",
       "mean     8.159800   5.839135\n",
       "std      3.869884   5.510262\n",
       "min      5.026900  -2.680700\n",
       "25%      5.707700   1.986900\n",
       "50%      6.589400   4.562300\n",
       "75%      8.578100   7.046700\n",
       "max     22.203000  24.147000"
      ]
     },
     "execution_count": 4,
     "metadata": {},
     "output_type": "execute_result"
    }
   ],
   "source": [
    "data.describe()"
   ]
  },
  {
   "cell_type": "markdown",
   "id": "aca8e09c",
   "metadata": {},
   "source": [
    "### Ex. 2."
   ]
  },
  {
   "cell_type": "code",
   "execution_count": 5,
   "id": "89d20be2",
   "metadata": {},
   "outputs": [
    {
     "data": {
      "image/png": "[encoded data removed]",
      "text/plain": [
       "<Figure size 640x480 with 1 Axes>"
      ]
     },
     "metadata": {},
     "output_type": "display_data"
    }
   ],
   "source": [
    "x = data.values[:, 0]\n",
    "y = data.values[:, 1]\n",
    "\n",
    "plt.scatter(x, y)\n",
    "plt.title('Data plot')\n",
    "plt.xlabel('population (in 10 000)')\n",
    "plt.ylabel('profit (in 10 000)')\n",
    "plt.show()"
   ]
  },
  {
   "cell_type": "markdown",
   "id": "ffaa5b5f",
   "metadata": {},
   "source": [
    "### Ex. 3. & 4."
   ]
  },
  {
   "cell_type": "code",
   "execution_count": 6,
   "id": "33b0fec3",
   "metadata": {},
   "outputs": [],
   "source": [
    "X = np.stack([np.ones(x.shape, dtype=np.float32), x], axis=0)\n",
    "y.shape = [1, y.shape[0]]\n",
    "theta = np.zeros((X.shape[0], 1), dtype=np.float32)"
   ]
  },
  {
   "cell_type": "markdown",
   "id": "f8081667",
   "metadata": {},
   "source": [
    "### Ex. 5."
   ]
  },
  {
   "cell_type": "code",
   "execution_count": 7,
   "id": "806418c2",
   "metadata": {},
   "outputs": [],
   "source": [
    "def computeCost(X, y, theta):\n",
    "    m = X.shape[1]\n",
    "    cost = (np.sum(X*theta) - y)**2\n",
    "        \n",
    "    return np.sum(cost) / (2*m)"
   ]
  },
  {
   "cell_type": "markdown",
   "id": "ab8b6c52",
   "metadata": {},
   "source": [
    "### Ex. 6."
   ]
  },
  {
   "cell_type": "code",
   "execution_count": 8,
   "id": "5e15c949",
   "metadata": {
    "scrolled": false
   },
   "outputs": [
    {
     "name": "stdout",
     "output_type": "stream",
     "text": [
      "32.072733877455676\n"
     ]
    }
   ],
   "source": [
    "print(computeCost(X, y, theta))"
   ]
  },
  {
   "cell_type": "markdown",
   "id": "07731dcd",
   "metadata": {},
   "source": [
    "### Ex. 7."
   ]
  },
  {
   "cell_type": "code",
   "execution_count": 9,
   "id": "11e85a53",
   "metadata": {},
   "outputs": [],
   "source": [
    "def simple_gradient(X, y, theta, alpha, it):\n",
    "    # it - number of iterations\n",
    "    m = X.shape[1]\n",
    "    \n",
    "    for i in range(it):\n",
    "        new_theta_0 = theta[0] - alpha * np.sum(np.sum(X*theta)-y) / m\n",
    "        new_theta_1 = theta[1] - alpha * np.sum((np.sum(X*theta)-y)*X) / m\n",
    "        \n",
    "        theta[0], theta[1] = new_theta_0, new_theta_1\n",
    "        \n",
    "    cost = computeCost(X, y, theta)\n",
    "\n",
    "    return theta, cost"
   ]
  },
  {
   "cell_type": "markdown",
   "id": "751d8b06",
   "metadata": {},
   "source": [
    "### Ex. 8. & 9."
   ]
  },
  {
   "cell_type": "code",
   "execution_count": 10,
   "id": "f638ed15",
   "metadata": {},
   "outputs": [
    {
     "name": "stdout",
     "output_type": "stream",
     "text": [
      "optimal theta: [[nan]\n",
      " [nan]]\n",
      "cost: nan\n"
     ]
    },
    {
     "name": "stderr",
     "output_type": "stream",
     "text": [
      "/tmp/ipykernel_15465/2682433313.py:7: RuntimeWarning: invalid value encountered in subtract\n",
      "  new_theta_1 = theta[1] - alpha * np.sum((np.sum(X*theta)-y)*X) / m\n"
     ]
    }
   ],
   "source": [
    "alpha = 0.01\n",
    "it = 1000\n",
    "\n",
    "opt_theta, cost = simple_gradient(X, y, theta, alpha, it)\n",
    "\n",
    "print('optimal theta:', opt_theta)\n",
    "print('cost:', cost)"
   ]
  },
  {
   "cell_type": "code",
   "execution_count": null,
   "id": "136cba10",
   "metadata": {},
   "outputs": [],
   "source": []
  },
  {
   "cell_type": "markdown",
   "id": "c9421108",
   "metadata": {},
   "source": [
    "### Ex. 10."
   ]
  },
  {
   "cell_type": "code",
   "execution_count": null,
   "id": "931c243d",
   "metadata": {},
   "outputs": [],
   "source": []
  },
  {
   "cell_type": "markdown",
   "id": "1793df8d",
   "metadata": {},
   "source": [
    "### Ex. 11."
   ]
  },
  {
   "cell_type": "code",
   "execution_count": null,
   "id": "5ac14626",
   "metadata": {},
   "outputs": [],
   "source": []
  },
  {
   "cell_type": "markdown",
   "id": "f6afc0ea",
   "metadata": {},
   "source": [
    "# Linear regression with multiple variables"
   ]
  },
  {
   "cell_type": "code",
   "execution_count": null,
   "id": "103e4609",
   "metadata": {},
   "outputs": [],
   "source": []
  },
  {
   "cell_type": "code",
   "execution_count": null,
   "id": "125cad09",
   "metadata": {},
   "outputs": [],
   "source": []
  }
 ],
 "metadata": {
  "kernelspec": {
   "display_name": "Python 3 (ipykernel)",
   "language": "python",
   "name": "python3"
  },
  "language_info": {
   "codemirror_mode": {
    "name": "ipython",
    "version": 3
   },
   "file_extension": ".py",
   "mimetype": "text/x-python",
   "name": "python",
   "nbconvert_exporter": "python",
   "pygments_lexer": "ipython3",
   "version": "3.10.6"
  }
 },
 "nbformat": 4,
 "nbformat_minor": 5
}
