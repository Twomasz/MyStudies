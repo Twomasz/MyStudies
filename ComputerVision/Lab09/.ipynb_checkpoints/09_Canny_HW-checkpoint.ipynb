{
 "cells": [
  {
   "cell_type": "markdown",
   "metadata": {
    "pycharm": {
     "name": "#%% md\n"
    }
   },
   "source": [
    "## Zadanie domowe - Algorytm Canny'ego\n",
    "\n",
    "Celem zadania domowego jest wykonanie pełnej implementacji algorytmu Canny'ego.\n",
    "\n",
    "W ramach ćwiczenia w trakcie laboratorium wyznaczono obrazy $g_{NH}$ i $g_{NL}$.\n",
    "Dla przypomnienia:\n",
    "Można powiedzieć, że na obrazie $g_{NH}$ są \"pewne\" krawędzie.\n",
    "Natomiast na $g_{NL}$ \"potencjalne\".\n",
    "Często krawędzie \"pewne\" nie są ciągłe.\n",
    "Wykorzystuje się więc krawędzie \"potencjalne\", aby uzupełnić nieciągłości.\n",
    "Procedura wygląda następująco:\n",
    "1. Stwórz stos zawierający wszystkie piksele zaznaczone na obrazie $g_{NH}$.\n",
    "W tym celu wykorzystaj listę współrzędnych `[row, col]`.\n",
    "Do pobrania elementu z początku służy metoda `list.pop()`.\n",
    "Do dodania elementu na koniec listy służy metoda `list.append(new)`.\n",
    "2. Stwórz obraz, który będzie zawierał informację czy dany piksel został już odwiedzony.\n",
    "3. Stwórz obraz, który zawierać będzie wynikowe krawędzie.\n",
    "Jej rozmiar jest równy rozmiarowi obrazu.\n",
    "4. Wykonaj pętlę, która będzie pobierać elementy z listy, dopóki ta nie będzie pusta.\n",
    "W tym celu najlepiej sprawdzi się pętla `while`.\n",
    "    - W każdej iteracji pobierz element ze stosu.\n",
    "    - Sprawdź, czy dany element został już odwiedzony.\n",
    "    - Jeśli nie został, to:\n",
    "        - Oznacz go jako odwiedzony,\n",
    "        - Oznacz piksel jako krawędź w wyniku,\n",
    "        - Sprawdź otoczenie piksela w obrazie $g_{NL}$,\n",
    "        - Dodaj do stosu współrzędne otoczenia, które zawierają krawędź.\n",
    "        Można to wykonać np. pętlą po stworzonym otoczeniu.\n",
    "7. Wyświetl obraz oryginalny, obraz $g_{NH}$ oraz obraz wynikowy.\n",
    "8. Porównaj wynik algorytmu z wynikiem OpenCV.\n",
    "\n",
    "Pomocnicze obrazy $g_{NH}$ i $g_{NL}$ zostały wprowadzone dla uproszczenia opisu.\n",
    "Algorytm można zaimplementować w bardziej \"zwarty\" sposób.\n",
    "\n",
    "Na podstawie powyższego opisu zaimplementuj pełny algorytm Canny'ego."
   ]
  },
  {
   "cell_type": "code",
   "execution_count": null,
   "metadata": {},
   "outputs": [],
   "source": [
    "import cv2\n",
    "from matplotlib import pyplot as plt\n",
    "import numpy as np\n",
    "import math\n",
    "import os\n",
    "\n",
    "if not os.path.exists(\"dom.png\") :\n",
    "    !wget https://raw.githubusercontent.com/vision-agh/poc_sw/master/09_Canny/dom.png --no-check-certificate\n",
    "        \n",
    "dom = cv2.imread('dom.png', cv2.IMREAD_GRAYSCALE)"
   ]
  },
  {
   "cell_type": "code",
   "execution_count": null,
   "metadata": {
    "pycharm": {
     "name": "#%% Zadanie domowe - Canny\n"
    }
   },
   "outputs": [],
   "source": [
    "def sobel_filters(g_blur):\n",
    "    S1 = np.array([[-1, 0, 1], [-2, 0, 2], [-1, 0, 1]], np.float32)\n",
    "    S2 = np.array([[1, 2, 1], [0, 0, 0], [-1, -2, -1]], np.float32)\n",
    "    \n",
    "    Gx = cv2.filter2D(g_blur, -1, S1)\n",
    "    Gy = cv2.filter2D(g_blur, -1, S2)\n",
    "    \n",
    "    magnitude = np.sqrt(Gx**2 + Gy**2)\n",
    "    alpha = np.arctan2(Gy, Gx)\n",
    "    \n",
    "    return magnitude, alpha"
   ]
  },
  {
   "cell_type": "code",
   "execution_count": null,
   "metadata": {},
   "outputs": [],
   "source": [
    "def quantization(img, alpha):\n",
    "    M, N = img.shape\n",
    "    quant_matrix = np.zeros((M,N), dtype=np.int32)\n",
    "    \n",
    "    in_degrees = alpha * 180 / np.pi\n",
    "    in_degrees[in_degrees < 0] += 180\n",
    "\n",
    "    for i in range(1,M-1):\n",
    "        for j in range(1,N-1):\n",
    "            try:\n",
    "               # alpha = 0 (degrees)\n",
    "                if (0 <= in_degrees[i,j] < 22.5) or (157.5 <= in_degrees[i,j] <= 180):\n",
    "                    quant_matrix[i,j] = 1\n",
    "                    \n",
    "                # alpha = 45 (degrees)\n",
    "                elif (22.5 <= in_degrees[i,j] < 67.5):\n",
    "                    quant_matrix[i,j] = 2\n",
    "                    \n",
    "                # alpha = 90 (degrees)\n",
    "                elif (67.5 <= in_degrees[i,j] < 112.5):\n",
    "                    quant_matrix[i,j] = 3\n",
    "                    \n",
    "                # alpha = 135 (degrees)\n",
    "                elif (112.5 <= in_degrees[i,j] < 157.5):\n",
    "                    quant_matrix[i,j] = 4\n",
    "\n",
    "            except IndexError as e:\n",
    "                pass\n",
    "    \n",
    "    return quant_matrix"
   ]
  },
  {
   "cell_type": "code",
   "execution_count": null,
   "metadata": {},
   "outputs": [],
   "source": [
    "def nonmax(Z, mgtd):   # Z is matrix of directions, mgtd is magnitude\n",
    "    X, Y = Z.shape\n",
    "    g_N = np.zeros((X, Y))\n",
    "    \n",
    "    for i in range (1, X-1):\n",
    "        for j in range (1, Y-1):\n",
    "            if(Z[i,j] == 1):\n",
    "                if(mgtd[i,j-1] > mgtd[i,j] or mgtd[i,j+1] > mgtd[i,j]):\n",
    "                    pass\n",
    "                else:\n",
    "                    g_N[i,j] = mgtd[i,j]\n",
    "                    \n",
    "            elif(Z[i,j] == 2):\n",
    "                if(mgtd[i+1,j-1] > mgtd[i,j] or mgtd[i-1,j+1] > mgtd[i,j]):\n",
    "                    pass\n",
    "                else:\n",
    "                    g_N[i,j] = mgtd[i,j]\n",
    "                    \n",
    "            elif(Z[i,j] == 3):\n",
    "                if(mgtd[i+1,j] > mgtd[i,j] or mgtd[i-1,j] > mgtd[i,j]):\n",
    "                    pass\n",
    "                else:\n",
    "                    g_N[i,j] = mgtd[i,j]\n",
    "                    \n",
    "            elif(Z[i,j] == 4):\n",
    "                if(mgtd[i-1,j-1] > mgtd[i,j] or mgtd[i+1,j+1] > mgtd[i,j]):\n",
    "                    pass\n",
    "                else:\n",
    "                    g_N[i,j] = mgtd[i,j]\n",
    "                    \n",
    "    return g_N"
   ]
  },
  {
   "cell_type": "code",
   "execution_count": null,
   "metadata": {},
   "outputs": [],
   "source": [
    "def complete_canny(img, weak, strong):\n",
    "    g_blur = cv2.GaussianBlur(img, (3, 3), 0)\n",
    "    \n",
    "    magnitude, alpha = sobel_filters(g_blur)\n",
    "    \n",
    "    Z = quantization(img, alpha)\n",
    "    \n",
    "    g_N = nonmax(Z, magnitude)\n",
    "    \n",
    "    g_NH = g_N >= strong\n",
    "    \n",
    "    AND = np.logical_and(weak <= g_N, g_N < strong)\n",
    "    g_NL = np.where(AND, 1, 0)\n",
    "    \n",
    "    \n",
    "    # ==== COMPLETING CANNY ====\n",
    "    \n",
    "    size = img.shape\n",
    "    final_result = np.zeros(size)\n",
    "    \n",
    "    queue = []\n",
    "    for row in range(size[0]):\n",
    "        for col in range(size[1]):\n",
    "            if g_NH[row][col] > 0:\n",
    "                queue.append([row, col])\n",
    "    \n",
    "    visited = np.zeros(size)\n",
    "    \n",
    "    while queue:\n",
    "        coord = queue.pop()\n",
    "        visited[coord[0]][coord[1]] = 1\n",
    "        final_result[coord[0]][coord[1]] = 1\n",
    "\n",
    "        for x in range(coord[0] - 1, coord[0] + 2):\n",
    "            if 0 <= x < size[0]:\n",
    "                for y in range(coord[1] - 1, coord[1] + 2):\n",
    "                    if 0 <= y < size[1]:\n",
    "                        if not visited[x, y] and g_NL[x][y]:\n",
    "                            queue.append([x, y])\n",
    "    \n",
    "    return final_result, g_NH"
   ]
  },
  {
   "cell_type": "code",
   "execution_count": null,
   "metadata": {},
   "outputs": [],
   "source": [
    "result, g_NH = complete_canny(dom, 5, 10)"
   ]
  },
  {
   "cell_type": "code",
   "execution_count": null,
   "metadata": {},
   "outputs": [],
   "source": [
    "fig, ax = plt.subplots(1, 3, figsize=(16, 16)) \n",
    "ax[0].imshow(dom, 'gray')\n",
    "ax[0].axis('off')\n",
    "ax[0].set_title('Obraz wejściowy')\n",
    "ax[1].imshow(g_NH, 'gray')\n",
    "ax[1].axis('off')\n",
    "ax[1].set_title('Pewne krawędzie')\n",
    "ax[2].imshow(result, 'gray')\n",
    "ax[2].axis('off')\n",
    "ax[2].set_title('Obraz wynikowy')\n",
    "plt.show()"
   ]
  },
  {
   "cell_type": "code",
   "execution_count": null,
   "metadata": {},
   "outputs": [],
   "source": [
    "my_result, g_NH = complete_canny(dom, 5, 15)\n",
    "cv_result = cv2.Canny(dom, 5, 15, None, 3, 1)\n",
    "\n",
    "fig, ax = plt.subplots(1, 2, figsize=(16, 16)) \n",
    "ax[0].imshow(my_result, 'gray')\n",
    "ax[0].axis('off')\n",
    "ax[0].set_title('Wynik działania zaimplementowanej funkcji')\n",
    "ax[1].imshow(cv_result, 'gray')\n",
    "ax[1].axis('off')\n",
    "ax[1].set_title('Wynik działania funkcji z biblioteki')\n",
    "plt.show()"
   ]
  },
  {
   "cell_type": "code",
   "execution_count": null,
   "metadata": {},
   "outputs": [],
   "source": []
  }
 ],
 "metadata": {
  "kernelspec": {
   "display_name": "Python 3 (ipykernel)",
   "language": "python",
   "name": "python3"
  },
  "language_info": {
   "codemirror_mode": {
    "name": "ipython",
    "version": 3
   },
   "file_extension": ".py",
   "mimetype": "text/x-python",
   "name": "python",
   "nbconvert_exporter": "python",
   "pygments_lexer": "ipython3",
   "version": "3.8.10"
  }
 },
 "nbformat": 4,
 "nbformat_minor": 4
}
