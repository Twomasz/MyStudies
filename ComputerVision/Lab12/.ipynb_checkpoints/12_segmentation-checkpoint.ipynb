{
 "cells": [
  {
   "cell_type": "markdown",
   "metadata": {
    "collapsed": true,
    "pycharm": {
     "name": "#%% md\n"
    }
   },
   "source": [
    "# Segmentacja obrazów\n",
    "\n",
    "## Cel ćwiczenia\n",
    "- zapoznanie z metodami segmentacji obrazów:\n",
    "    - segmentacją przez rozrost obszaru (*region growing*)\n",
    "    - i w ramach zadania domowego segmentacją przez podział i łączenie (*split and merge*)\n",
    "\n",
    "## Wstęp\n",
    "\n",
    "W ramach dotychczas wykonanych ćwiczeń poznaliśmy segmentację z wykorzystaniem binaryzacji (progowania) - tj. na podstawie jasności (koloru) poszczególnych pikseli.\n",
    "Wykonaliśmy dwa warianty metody: globalny i lokalny oraz przetestowaliśmy różne podejścia do automatycznego wyznaczania progu bianryzacji (iteracyjne oraz Otsu).\n",
    "Ponadto poznaliśmy możliwość segmentacji na podstawie krawędzi z wykorzystaniem transformaty Hougha."
   ]
  },
  {
   "cell_type": "markdown",
   "metadata": {},
   "source": [
    "## Podstawy\n",
    "\n",
    "Niech $R$ oznacza obszar równy całemu analizowanemu obrazowi.\n",
    "Segmentację możemy uznać za proces podziału $R$ na $n$ podobszarów $R_1,R_2,...,R_n$ takich że:\n",
    "1. $\\cup_{i=1}^n R_i = R$\n",
    "2. $R_i$ - składa się z połączonych ze sobą pikseli,\n",
    "3. $R_i \\cap R_j = \\varnothing $ dla wszystkich $i$ i $j$,$ i \\neq j$,\n",
    "4. $Q(R_i) = TRUE$ dla $i = 1,2,...n$\n",
    "5. $ Q(R_i \\cup R_j) = FALSE$ dla każdych sąsiednich $R_i$ i $R_j$.\n",
    "\n",
    "gdzie: symbole $\\cup$ i $\\cap$ oznaczają odpowiednio sumę i iloczyn zbiorów, a $Q$ jest pewnym predykatem.\n",
    "\n",
    "Punkt *1* oznacza, że segmentacja musi być kompletna tj. każdy piksel powinien zostać przyporządkowany do jakiegoś zbioru.\n",
    "\n",
    "Punkt *2* oznacza, że piksele w ramach jednego podobszaru muszą być ze sobą połączone (na zasadzie sąsiedztwa 4 lub 8 punktowego).\n",
    "\n",
    "Punkt *3* oznacza, że dowolne różne podobszary muszą być rozłączne.\n",
    "\n",
    "Punkt *4* oznacza, że wszystkie piksele będące w ramach jednego podobszaru muszą spełniać pewną własność. Przykładowo może to być ten sam lub podobny odcień szarości.\n",
    "\n",
    "Punkt *5* oznacza, że dwa sąsiednie podobszary muszą być różne w sensie predykatu Q (inaczej powinny zostać uznane za ten sam podobszar)."
   ]
  },
  {
   "cell_type": "markdown",
   "metadata": {},
   "source": [
    "## Segmentacja przez rozrost obszaru\n",
    "\n",
    "Pomysł jest następujący.\n",
    "Wybieramy (jak ? - o tym później) piksele startowe (ang. *seed*) i od nich zaczynamy segmentację.\n",
    "Odbywa się ona na zasadzie sprawdzania czy sąsiednie piksele (sąsiedztwo 4 lub 8 punktowe) są podobne do centralnego pod względem jakieś cechy (predykatu $Q$).\n",
    "Jeśli tak to oznaczane są jako należące do tej samej klasy co piksel centralny.\n",
    "Ponadto stają się one kolejnymi punktami startowymi metody.\n",
    "Zatem procedura ma charakter rekurencyjny.\n",
    "\n",
    "Wybór punktów startowych może być podyktowany charakterem problemu (przykładowo wiemy gdzie na pewno zaczynają się obiekty).\n",
    "W ogólnym przypadku trzeba założyć, że pikselem startowym może być każdy piksel, co oczywiście wpływa na złożoność metody.\n",
    "\n",
    "Kolejnym problemem jest wybór kryterium stopu tj. kiedy nasza procedura rekurencyjna ma się zakończyć.\n",
    "Dla danego podobszaru będzie to moment, kiedy nie istnieją już piksele, które można do  niego dołączyć.\n",
    "\n",
    "Warto w tym miejscu zwrócić uwagę, że stosowanie ''sztywnego'' warunku - np. różnica jasności pomiędzy pikselem centralnym, a analizowanym jest mniejsza niż 5 - może często dać niepożądane wyniki, gdyż nie uwzględnia pewnych lokalnych właściwości.\n",
    "Przykładowo, może się okazać, że jeśli na obrazie występuje niewielki gradient to za należące do tego samego obszaru uznane zostaną piksele o zupełnie różnych jasnościach.\n",
    "Możliwa jest też sytuacja odwrotna.\n",
    "Duże zróżnicowanie wartości na obrazie spowoduje zbyt duże ''poszarpanie'' wykrytych obszarów.\n",
    "\n",
    "Jednym z możliwych rozwiązań jest uzależnienie kryterium podobieństwa (predykatu $Q$) od własności obrazu np. średniej jasności w obrębie danego obszaru.\n",
    "Można również dodać inne kryteria np. kształt podobszaru itp.\n",
    "\n",
    "Uwaga. Pojęcie segmentacja przez rozrost to pewna **koncepcja** podejścia do segmentacji, a nie konkretna metoda.\n",
    "Na etapie projektowania algorytmu należy skupić się na konstrukcji kryterium podobieństwa (tj. co i jak ma być ze sobą porównywane) oraz ewentualnym uzupełnianiu metody o dodatkowe kryteria.\n",
    "\n"
   ]
  },
  {
   "cell_type": "markdown",
   "metadata": {},
   "source": [
    "## Zadanie: zaprojektować system segmentacji wybranej struktury na obrazie MRI (np. stawu kolanowego).\n",
    "Punkt startowy wyznaczany będzie ''ręcznie'' (poprzez kliknięcie na obrazie).\n",
    "\n",
    "1. Wczytaj obraz *knee.png* (w skali szarości) - MRI stawu kolanowego. Wyświetl go. Załóżmy, że chcemy dokonać segmentacji górnej kości. Przyjęliśmy, że punkt startowy metody wyznaczany będzie w sposób ręczny. Do pobrania położenia kursora myszy na ekranie służy funkcja `plt.ginput`. Uwaga. Jeśli obrazki są ''osadzone'' w notatniku, funkcja nie działa - proszę zwrócić uwagę na kod `matplotlib.use('TkAgg')`, który powoduje, że obrazki wyświetlane są ''samodzielnie''.\n",
    "\n",
    "  Uwaga 1. Pobrane współrzędne należy zaokrąglić (*floor* lub *round*).\n",
    "\n",
    "  Uwaga 2. Dla potrzeb testów dobrze jest wpisać punkt startowy na ''sztywno''. Pozwoli to uniknąć dość irytującego klikania przy każdym uruchomieniu skryptu.\n",
    "\n",
    "\n",
    "2. Metodę zaimplementujemy z wykorzystaniem stosu.\n",
    "   Uwaga. Podany poniżej opis jest tylko jedną z możliwych realizacji (niekoniecznie najlepszą).\n",
    "   Na początek tworzymy dwie macierze o rozmiarach takich jak analizowany obraz.\n",
    "   W jednej będziemy zapisywać odwiedzone lokalizacje (`visited` - typ *boolean*), a w drugiej rezultaty segmentacji (`segmented`).\n",
    "   Obie macierze tworzymy wypełnione zerami (funkcja `np.zeros`).\n",
    "   Tworzymy też stos - w Python to po prostu ''pusta lista''.\n",
    "\n",
    "3. W pierwszym kroku metody na stos (`stack.append`) odkładamy współrzędne wybranego przez użytkowania piksela.\n",
    "   Oznaczamy go również jako odwiedzony (macierz *visited*) i zaliczony do obiektu (macierz *segmented*).\n",
    "\n",
    "4. Pozostałe działanie odbywać się będzie w pętli `while`, której warunkiem stopu jest obecność elementów na stosie (`len(stack)>0`).\n",
    " W iteracji należy pobrać współrzędne piksela ze stosu.\n",
    "  Następnie sprawdzamy, czy dla tego piksela można określić kontekst o rozmiarze $ 3 \\times 3$ tj. czy ma wszystkich sąsiadów.\n",
    "  Uwaga. Przyjmujemy tutaj uproszczenie - nie segmentujemy brzegu obrazka (ramki o szerokości 1 piksela).\n",
    "\n",
    "5. W kolejnym kroku rozpisujemy pętlę po otoczeniu $3 \\times 3$ (x2 `for`).\n",
    "   Wewnątrz obliczamy odległość pomiędzy pikselem centralnym, a każdym z kontekstu.\n",
    "   Przyjmijmy, że będzie to moduł z różnicy jasności.\n",
    "   Jeśli wartość modułu będzie mniejsza od zdefiniowanego progu (proszę przyjąć jako początkową wartość 4) oraz rozpatrywany piksel nie był wcześniej odwiedzany to oznaczamy go jako należący do obiektu oraz jego współrzędne ''odkładamy'' na stosie.\n",
    "   Uwaga. Pierwsza część warunku logicznego to nasz predykat Q.\n",
    "   Za piksele podobne uznajemy takie, których różnica w jasności jest mniejsza niż zadany próg.\n",
    "   Niezależnie od wyniku testu oznaczamy piksel jako odwiedzony (żeby wielokrotnie nie analizować tych samych lokalizacji).\n",
    "\n",
    "6. Poza pętlą `while` proszę wyświetlić rezultat segmentacji.\n",
    "   Czy wyniki są poprawne ?\n",
    "   Proszę poeksperymentować z wartością progu."
   ]
  },
  {
   "cell_type": "code",
   "execution_count": null,
   "metadata": {
    "pycharm": {
     "name": "#%%\n"
    }
   },
   "outputs": [],
   "source": [
    "import os\n",
    "import cv2\n",
    "import matplotlib\n",
    "# matplotlib.use('TkAgg')\n",
    "import matplotlib.pyplot as plt\n",
    "import numpy as np\n",
    "\n",
    "if not os.path.exists(\"knee.png\") :\n",
    "    !wget https://raw.githubusercontent.com/vision-agh/poc_sw/master/12_Segmentation/knee.png --no-check-certificate\n",
    "\n",
    "knee = cv2.imread('knee.png', cv2.IMREAD_GRAYSCALE)\n",
    "\n",
    "plt.imshow(knee, 'gray')\n",
    "# start_p = plt.ginput(1)\n",
    "plt.show()"
   ]
  },
  {
   "cell_type": "code",
   "execution_count": null,
   "metadata": {},
   "outputs": [],
   "source": [
    "def segmentation(img, threshold, start_p):\n",
    "    x = round(start_p[0]), round(start_p[1])\n",
    "\n",
    "    size = img.shape\n",
    "    img = img.astype('float32')\n",
    "\n",
    "    visited = np.zeros(size, dtype=np.bool_)\n",
    "    segmented = np.zeros(size, dtype=np.uint8)\n",
    "\n",
    "    visited[x] = 1\n",
    "    segmented[x] = img[x]\n",
    "\n",
    "    stack = [x]\n",
    "    while stack:\n",
    "        pix = stack.pop(-1)\n",
    "\n",
    "        if pix[0] == 0 or pix[1] == 0 or pix[0] == size[0]-1 or pix[1] == size[1]-1:\n",
    "            pass\n",
    "        \n",
    "        else:\n",
    "            window = img[pix[0]-1:pix[0]+2, pix[1]-1:pix[1]+2]\n",
    "\n",
    "            for i in range(3):\n",
    "                for j in range(3):\n",
    "                    new_piksel = pix[0]-1+i, pix[1]-1+j\n",
    "                    diff = np.abs(window[1, 1] - window[i, j])\n",
    "                    if visited[new_piksel] == 0 and diff < threshold:\n",
    "                        stack.append(new_piksel)\n",
    "                        segmented[new_piksel] = img[new_piksel]\n",
    "\n",
    "                    visited[new_piksel] = 1\n",
    "\n",
    "    return segmented"
   ]
  },
  {
   "cell_type": "code",
   "execution_count": null,
   "metadata": {},
   "outputs": [],
   "source": [
    "start_p = 225, 320\n",
    "\n",
    "fig, ax = plt.subplots(1, 2, figsize=(12, 12))\n",
    "ax[0].set_aspect('equal')\n",
    "ax[0].imshow(knee, 'gray')\n",
    "ax[0].set_title('Obraz oryginalny z zaznaczonym punktem startowym')\n",
    "ax[0].add_patch(plt.Circle((start_p[1], start_p[0]), 10, color='r', fill=False))\n",
    "ax[0].axis('off')\n",
    "ax[1].imshow(segmentation(knee, 3, start_p), 'gray', vmin=0, vmax=255)\n",
    "ax[1].set_title('Pierwsza próba segmentacji obrazu')\n",
    "ax[1].axis('off')\n",
    "plt.show()"
   ]
  },
  {
   "cell_type": "code",
   "execution_count": null,
   "metadata": {},
   "outputs": [],
   "source": [
    "start_p = 310, 320\n",
    "\n",
    "fig, ax = plt.subplots(1, 2, figsize=(12, 12))\n",
    "ax[0].set_aspect('equal')\n",
    "ax[0].imshow(knee, 'gray')\n",
    "ax[0].set_title('Obraz oryginalny z zaznaczonym punktem startowym')\n",
    "ax[0].add_patch(plt.Circle((start_p[1], start_p[0]), 10, color='r', fill=False))\n",
    "ax[0].axis('off')\n",
    "ax[1].imshow(segmentation(knee, 5, start_p), 'gray', vmin=0, vmax=255)\n",
    "ax[1].set_title('Druga próba segmentacji obrazu')\n",
    "ax[1].axis('off')\n",
    "plt.show()"
   ]
  },
  {
   "cell_type": "code",
   "execution_count": null,
   "metadata": {},
   "outputs": [],
   "source": [
    "start_p = 224, 290\n",
    "\n",
    "fig, ax = plt.subplots(1, 2, figsize=(12, 12))\n",
    "ax[0].set_aspect('equal')\n",
    "ax[0].imshow(knee, 'gray')\n",
    "ax[0].set_title('Obraz oryginalny z zaznaczonym punktem startowym')\n",
    "ax[0].add_patch(plt.Circle((start_p[1], start_p[0]), 10, color='r', fill=False))\n",
    "ax[0].axis('off')\n",
    "ax[1].imshow(segmentation(knee, 4, start_p), 'gray', vmin=0, vmax=255)\n",
    "ax[1].set_title('Trzecia (najlepsza) próba segmentacji obrazu')\n",
    "ax[1].axis('off')\n",
    "plt.show()"
   ]
  },
  {
   "cell_type": "markdown",
   "metadata": {
    "pycharm": {
     "name": "#%% md\n"
    }
   },
   "source": [
    "1. Powyższy przykład ukazuje wspomniany wcześniej problem z ''globalnym'' podejściem do predykatu Q.\n",
    "  Jeśli próg będzie mały, to wyznaczymy jedynie niewielki fragment kości.\n",
    "  Natomiast zwiększenie progu skutkuje segmentacją nadmiarową.\n",
    "  Mówiąc kolokwialnie, na obrazie znajdzie się ''ścieżka'' po której możliwe jest przejście od obszaru jasnego do ciemnego nie ''łamiąc'' progu odległości pomiędzy sąsiednimi pikselami.\n",
    "\n",
    "2. Aby zaradzić powyższemu problemowi, można za kryterium podobieństwa przyjąć, nie różnicę jasności względem piksela centralnego, a od globalnie wyznaczonego i aktualizowanego progu.\n",
    "  W najprostszym przypadku może to być średnia jasność w wyznaczonym obszarze.\n",
    "  W celu implementacji mechanizmu wystarczy dodać dwie zmienne: średnią ($mV$) oraz licznik pikseli uznanych za należące do obiektu ($nS$).\n",
    "  Przy każdym zdjęciu ze stosu licznik jest zwiększany o 1.\n",
    "  Aktualizacja średniej następuje na podstawie równania:\n",
    "  \\begin{equation}\n",
    "  mV_{n} = \\frac{mV_{nS-1} (nS - 1) + I}{nS}\n",
    "  \\tag{1}\n",
    "  \\end{equation}\n",
    "  \n",
    "  Następnie wystarczy tylko zmienić sposób obliczania odległości - zamienić piksel centralny na wartość średnią.\n",
    "  Proszę spróbować jak działa metodą z taką modyfikacją - proszę się liczyć z koniecznością zwiększenia progu (nawet dość znaczną).\n",
    "\n",
    "3. Poprawić działanie metody może również dodanie filtracji uśredniającej np. filtrem Gaussa."
   ]
  },
  {
   "cell_type": "code",
   "execution_count": null,
   "metadata": {
    "pycharm": {
     "name": "#%%\n"
    }
   },
   "outputs": [],
   "source": [
    "def better_segmentation(img, threshold, start_p):\n",
    "    x = round(start_p[0]), round(start_p[1])\n",
    "\n",
    "    size = img.shape\n",
    "    img = img.astype('float32')\n",
    "\n",
    "    visited = np.zeros(size, dtype=np.bool_)\n",
    "    segmented = np.zeros(size, dtype=np.uint8)\n",
    "\n",
    "    visited[x] = 1\n",
    "    segmented[x] = img[x]\n",
    "\n",
    "    mV = img[x]\n",
    "    nS = 0\n",
    "\n",
    "    stack = [x]\n",
    "    while stack:\n",
    "        pix = stack.pop(-1)\n",
    "        nS += 1\n",
    "        if nS > 1:\n",
    "            mV = ((mV * (nS - 1) + img[pix[0], pix[1]]) / nS)\n",
    "\n",
    "        if pix[0] == 0 or pix[1] == 0 or pix[0] == size[0] - 1 or pix[1] == size[1] - 1:\n",
    "            pass\n",
    "\n",
    "        else:\n",
    "            window = img[pix[0] - 1:pix[0] + 2, pix[1] - 1:pix[1] + 2]\n",
    "            for i in range(3):\n",
    "                for j in range(3):\n",
    "                    new_pix = pix[0] - 1 + i, pix[1] - 1 + j\n",
    "                    diff = np.abs(mV - window[i, j])\n",
    "                    if visited[new_pix] == 0 and diff < threshold:\n",
    "                        stack.append(new_pix)\n",
    "                        segmented[new_pix] = img[new_pix]\n",
    "\n",
    "                    visited[new_pix] = 1\n",
    "\n",
    "    return segmented"
   ]
  },
  {
   "cell_type": "code",
   "execution_count": null,
   "metadata": {},
   "outputs": [],
   "source": [
    "start_p = 310, 330\n",
    "\n",
    "fig, ax = plt.subplots(1, 2, figsize=(12, 12))\n",
    "ax[0].set_aspect('equal')\n",
    "ax[0].imshow(knee, 'gray')\n",
    "ax[0].set_title('Obraz oryginalny z zaznaczonym punktem startowym')\n",
    "ax[0].add_patch(plt.Circle((start_p[1], start_p[0]), 10, color='r', fill=False))\n",
    "ax[0].axis('off')\n",
    "ax[1].imshow(better_segmentation(knee, 40, start_p), 'gray', vmin=0, vmax=255)\n",
    "ax[1].set_title('Pierwsza próba poprawionej segmentacji obrazu')\n",
    "ax[1].axis('off')\n",
    "plt.show()"
   ]
  },
  {
   "cell_type": "code",
   "execution_count": null,
   "metadata": {},
   "outputs": [],
   "source": [
    "start_p = 224, 290\n",
    "\n",
    "fig, ax = plt.subplots(1, 2, figsize=(12, 12))\n",
    "ax[0].set_aspect('equal')\n",
    "ax[0].imshow(knee, 'gray')\n",
    "ax[0].set_title('Obraz oryginalny z zaznaczonym punktem startowym')\n",
    "ax[0].add_patch(plt.Circle((start_p[1], start_p[0]), 10, color='r', fill=False))\n",
    "ax[0].axis('off')\n",
    "ax[1].imshow(better_segmentation(knee, 60, start_p), 'gray', vmin=0, vmax=255)\n",
    "ax[1].set_title('Druga próba poprawionej segmentacji obrazu')\n",
    "ax[1].axis('off')\n",
    "plt.show()"
   ]
  },
  {
   "cell_type": "code",
   "execution_count": null,
   "metadata": {},
   "outputs": [],
   "source": []
  }
 ],
 "metadata": {
  "kernelspec": {
   "display_name": "Python 3 (ipykernel)",
   "language": "python",
   "name": "python3"
  },
  "language_info": {
   "codemirror_mode": {
    "name": "ipython",
    "version": 3
   },
   "file_extension": ".py",
   "mimetype": "text/x-python",
   "name": "python",
   "nbconvert_exporter": "python",
   "pygments_lexer": "ipython3",
   "version": "3.8.10"
  }
 },
 "nbformat": 4,
 "nbformat_minor": 1
}
