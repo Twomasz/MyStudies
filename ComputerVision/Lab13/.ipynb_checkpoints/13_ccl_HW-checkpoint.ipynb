{
 "cells": [
  {
   "cell_type": "markdown",
   "metadata": {
    "collapsed": true,
    "pycharm": {
     "name": "#%% md\n"
    }
   },
   "source": [
    "# Zadanie domowe 13.\n",
    "\n",
    "## Cel ćwiczenia\n",
    "- Wykorzystując zdobytą dotychczas wiedzę doprowadź do rozpoznania i separacji (wydzielenia) obiektów widocznych na obrazie \"details.png\".\n",
    "\n",
    "## Indeksacja\n",
    "\n",
    "Obiekty należą do trzech różnych klas: śrubki, nakrętki oraz podkładki.\n",
    "\n",
    "Rozpoznanie powinno być dokonane na podstawie momentów, po wcześniejszej wstępnej obróbce obrazu oraz binaryzacji (segmentacji) - w miarę możliwości należy wyeliminować różnice w oświetleniu sceny, odblaski oraz cienie rzucane przez obiekty.\n",
    "\n",
    "Końcowym rezultatem zadania mają być trzy obrazy zawierające tylko obiekty należące do danej klasy (osobno śrubki, osobno nakrętki i osobno podkładki).\n",
    "\n",
    "Do zapisania zadania wykorzystaj nowy notebook lub ewentualnie użyj tego z zadaniem obowiązkowym (po usunięciu zbędnych opisów i fragmentów kodu)."
   ]
  },
  {
   "cell_type": "code",
   "execution_count": null,
   "metadata": {
    "pycharm": {
     "name": "#%%\n"
    },
    "scrolled": false
   },
   "outputs": [],
   "source": [
    "import os\n",
    "import cv2\n",
    "import matplotlib.pyplot as plt\n",
    "import numpy as np\n",
    "\n",
    "if not os.path.exists(\"details.png\") :\n",
    "    !wget https://raw.githubusercontent.com/vision-agh/poc_sw/master/13_CCL/details.png --no-check-certificate\n",
    "\n",
    "\n",
    "details = cv2.imread('details.png', cv2.IMREAD_GRAYSCALE)\n",
    "\n",
    "plt.figure(figsize=(8,8))\n",
    "plt.imshow(details, 'gray')\n",
    "plt.axis('off')\n",
    "plt.title('Obraz oryginalny')\n",
    "plt.show()"
   ]
  },
  {
   "cell_type": "code",
   "execution_count": null,
   "metadata": {},
   "outputs": [],
   "source": [
    "# funkcja binaryzująca z dwoma progami\n",
    "\n",
    "def binary_two_thresholds(img, thr1, thr2):\n",
    "    xx, yy = img.shape\n",
    "    output_img = np.zeros((xx, yy), dtype='uint8')\n",
    "    \n",
    "    for i in range(xx):\n",
    "        for j in range(yy):\n",
    "            if thr1 <= img[i][j] <= thr2:\n",
    "                pass\n",
    "            else:\n",
    "                output_img[i][j] = 255\n",
    "                \n",
    "    return output_img"
   ]
  },
  {
   "cell_type": "code",
   "execution_count": null,
   "metadata": {},
   "outputs": [],
   "source": [
    "# wyblurowanie obrazu\n",
    "\n",
    "details = cv2.GaussianBlur(details,(7,7), 0)"
   ]
  },
  {
   "cell_type": "code",
   "execution_count": null,
   "metadata": {
    "pycharm": {
     "name": "#%%\n"
    }
   },
   "outputs": [],
   "source": [
    "adaptive_thr = cv2.adaptiveThreshold(details,255,cv2.ADAPTIVE_THRESH_GAUSSIAN_C,\\\n",
    "            cv2.THRESH_BINARY_INV,11,2)\n",
    "my_binary = binary_two_thresholds(details, 105, 210)\n",
    "\n",
    "fig,ax = plt.subplots(1, 2)\n",
    "fig.set_size_inches(16, 16)\n",
    "ax[0].imshow(adaptive_thr, 'gray')\n",
    "ax[0].axis('off')\n",
    "ax[0].set_title('Wynik binaryzacji adaptacyjnym thresholdingiem')\n",
    "ax[1].imshow(my_binary, 'gray')\n",
    "ax[1].axis('off')\n",
    "ax[1].set_title('Wynik binaryzacji własną funkcją')\n",
    "plt.show()"
   ]
  },
  {
   "cell_type": "code",
   "execution_count": null,
   "metadata": {},
   "outputs": [],
   "source": [
    "# funkcja do połączenia wyników dwóch binaryzacji\n",
    "\n",
    "def merge(img1, img2):\n",
    "    xx, yy = img1.shape\n",
    "    \n",
    "    if (xx, yy) != img2.shape:\n",
    "        return None\n",
    "    \n",
    "    output_img = np.zeros((xx, yy), dtype='uint8')\n",
    "    \n",
    "    for i in range(xx):\n",
    "        for j in range(yy):\n",
    "            if img1[i][j] > 0 or img2[i][j] > 0:\n",
    "                output_img[i][j] = 255\n",
    "                \n",
    "    return output_img"
   ]
  },
  {
   "cell_type": "code",
   "execution_count": null,
   "metadata": {},
   "outputs": [],
   "source": [
    "merge_img = merge(adaptive_thr, my_binary)\n",
    "\n",
    "plt.figure(figsize=(8,8))\n",
    "plt.imshow(merge_img, 'gray')\n",
    "plt.axis('off')\n",
    "plt.title('Wynik połączenia dwóch binaryzacji')\n",
    "plt.show()"
   ]
  },
  {
   "cell_type": "code",
   "execution_count": null,
   "metadata": {},
   "outputs": [],
   "source": [
    "blur = cv2.medianBlur(merge_img, 5) \n",
    "\n",
    "element = cv2.getStructuringElement(cv2.MORPH_ELLIPSE,(5,5))\n",
    "element2 = np.ones((3,3), dtype='uint8')\n",
    "\n",
    "erode_img = cv2.dilate(blur, element)\n",
    "final_img = cv2.erode(erode_img, element2)\n",
    "\n",
    "plt.figure(figsize=(8,8))\n",
    "plt.imshow(final_img, 'gray')\n",
    "plt.axis('off')\n",
    "plt.title('Wynik końcowy po wyblurowaniu, dylatacji i erocji')\n",
    "plt.show()"
   ]
  },
  {
   "cell_type": "code",
   "execution_count": null,
   "metadata": {},
   "outputs": [],
   "source": [
    "labels, idx_img, stats, centroids = cv2.connectedComponentsWithStats(final_img)\n",
    "plt.figure(figsize=(8,8))\n",
    "plt.imshow(idx_img,'gray')\n",
    "plt.axis('off')\n",
    "plt.title('Obraz po indeksacji')\n",
    "plt.show()\n",
    "print(centroids[0,0])"
   ]
  },
  {
   "cell_type": "code",
   "execution_count": null,
   "metadata": {},
   "outputs": [],
   "source": [
    "ccl_vis = idx_img.copy()\n",
    "\n",
    "s=0\n",
    "for lbl in range(2, labels+1):\n",
    "    cv2.putText(ccl_vis, str(lbl-1),(int(centroids[lbl-1,0]),int(centroids[lbl-1,1])),cv2.FONT_HERSHEY_SIMPLEX,1,(20,0,0),2)\n",
    "\n",
    "plt.figure(figsize=(8,8))    \n",
    "plt.imshow(ccl_vis,'gray')\n",
    "plt.axis('off')\n",
    "plt.title('Ponumerowanie obiekty')\n",
    "plt.show()"
   ]
  },
  {
   "cell_type": "code",
   "execution_count": null,
   "metadata": {
    "scrolled": false
   },
   "outputs": [],
   "source": [
    "moment = []\n",
    "hu_moment = []\n",
    "objects = []\n",
    "\n",
    "for i in range(labels):\n",
    "    I = (idx_img == (i+1)).astype('uint8')\n",
    "    objects.append(I)\n",
    "    moment.append(cv2.moments(I))\n",
    "    hu_moment.append(cv2.HuMoments(moment[i]))\n",
    "\n",
    "for i in range(len(moment)-1):\n",
    "    plt.imshow(objects[i], 'gray')\n",
    "    plt.title(f'Wyszukany obiekt nr {i+1}')\n",
    "    plt.axis('off')\n",
    "    plt.show()\n",
    "    print('Moment geometryczny: ', moment[i]['m00'])\n",
    "    print('Momentu hu0: ', \"{:1.6f}\".format(hu_moment[i][0][0]))\n",
    "    print('Momentu hu1: ', \"{:1.6f}\".format(hu_moment[i][1][0]))"
   ]
  },
  {
   "cell_type": "code",
   "execution_count": null,
   "metadata": {},
   "outputs": [],
   "source": [
    "bolts = np.zeros(idx_img.shape)\n",
    "\n",
    "for i in range(len(objects)):\n",
    "    if moment[i]['m00']>606 and moment[i]['m00']<1160 and \\\n",
    "    hu_moment[i][0][0] > 0.24 and hu_moment[i][1][0]>0.01:\n",
    "        bolts += objects[i]\n",
    "        \n",
    "        \n",
    "plt.figure(figsize=(8,8))    \n",
    "plt.imshow(bolts,'gray')\n",
    "plt.axis('off')\n",
    "plt.title('Wykryte śrubki')\n",
    "plt.show()"
   ]
  },
  {
   "cell_type": "code",
   "execution_count": null,
   "metadata": {},
   "outputs": [],
   "source": [
    "nuts = np.zeros(idx_img.shape)\n",
    "\n",
    "for i in range(len(objects)):\n",
    "    if moment[i]['m00'] > 245 and moment[i]['m00'] < 773 and \\\n",
    "    hu_moment[i][0][0] > 0.17 and hu_moment[i][0][0] < 0.23 and \\\n",
    "    hu_moment[i][1][0] > 0.00034 and hu_moment[i][1][0] < 0.0012:\n",
    "        nuts += objects[i]\n",
    "        \n",
    "        \n",
    "plt.figure(figsize=(8,8))    \n",
    "plt.imshow(nuts,'gray')\n",
    "plt.axis('off')\n",
    "plt.title('Wykryte nakrętki')\n",
    "plt.show()"
   ]
  },
  {
   "cell_type": "code",
   "execution_count": null,
   "metadata": {},
   "outputs": [],
   "source": [
    "rondelles = np.zeros(idx_img.shape)\n",
    "\n",
    "for i in range(len(objects)):\n",
    "    if moment[i]['m00'] > 336 and moment[i]['m00'] < 1184 and \\\n",
    "    hu_moment[i][0][0] > 0.15 and hu_moment[i][0][0] < 0.23 and \\\n",
    "    hu_moment[i][1][0] > 0.000004 and hu_moment[i][1][0] < 0.0022:\n",
    "        rondelles += objects[i]\n",
    "        \n",
    "        \n",
    "plt.figure(figsize=(8,8))    \n",
    "plt.imshow(rondelles,'gray')\n",
    "plt.axis('off')\n",
    "plt.title('Wykryte podkładki')\n",
    "plt.show()"
   ]
  },
  {
   "cell_type": "markdown",
   "metadata": {},
   "source": [
    "### Wyniki:\n",
    "\n",
    "Śrubki mają na tyle odróżnialny kształt, że ich wykrycie nie sprawiło większych trudności, natomiast po przeprowadzonych operacjach przekształcających wejściowy obraz podkładki i nakrętki stały się bardzo podobne. Wykrycie wszystkich nakrętek udało się, lecz nie udało się wyodrępnich tylko i wyłącznie podkładek, przez co w wykrytych podkładkach znajdują się 2 elementy będące nakrętkami"
   ]
  },
  {
   "cell_type": "code",
   "execution_count": null,
   "metadata": {},
   "outputs": [],
   "source": []
  }
 ],
 "metadata": {
  "kernelspec": {
   "display_name": "Python 3 (ipykernel)",
   "language": "python",
   "name": "python3"
  },
  "language_info": {
   "codemirror_mode": {
    "name": "ipython",
    "version": 3
   },
   "file_extension": ".py",
   "mimetype": "text/x-python",
   "name": "python",
   "nbconvert_exporter": "python",
   "pygments_lexer": "ipython3",
   "version": "3.8.10"
  }
 },
 "nbformat": 4,
 "nbformat_minor": 1
}
