{
 "cells": [
  {
   "cell_type": "markdown",
   "metadata": {},
   "source": [
    "### Transformata Hougha w przestrzeni ab - Domowe\n",
    "Przestrzeń ρ,θ nie jest jedyną przestrzenią w której punkt odpowiada parametrom prostej. Np. można spróbować wykorzystać tradycyjne równanie prostej:\n",
    "\n",
    "y=ax+b\n",
    "\n",
    "W tej przestrzeni reprezentacją pęku prostych jest prosta. \n",
    "\n",
    "Zadanie: napisać funkcję, która jako argument przyjmuje obraz (binarny) oraz parametry:\n",
    "\n",
    "- aMin - minimalna wartość parametru a\n",
    "- aMax - maksymalna  wartość parametru a\n",
    "- aSkok - skok parametru a\n",
    "- bMin - minimalna wartość parametru b\n",
    "- bMax  - maksymalna  wartość parametru b\n",
    "- bSkok - skok parametru b\n",
    "Jako wynik ma zwrócić macierz przestrzeni Hougha ab.\n",
    "\n",
    "Uwagi:\n",
    "\n",
    "- zadanie może wyglądać na skomplikowane ale tak naprawdę wymaga tylko starannego przemyślenia\n",
    "- najważniejszy jest problem \"adresowania\" macierzy H. Można do tego wykorzystać dwa wektory A i B ze wszystkimi możliwymi wartościami jakie parametry a i b mogę przyjąć (w podanych zakresach z podanym skokiem). Wówczas indeksy tych wektorów będą współrzędnymi w macierzy H. Do stworzenia wektorów wykorzystaj funkcję _np.arange_\n",
    "- na podstawie rozmiaru wektorów A i B (własność _shape_) należy stworzyć wyzerowaną macierz H (funkcja _np.zeros_) \n",
    "- dla każdego punktu krawędzi na obrazie należy:\n",
    "    - używająć wektora A dla każdej z jego wartości a obliczyć odpowiednią wartość b - indeksy kolejnych wartości a (a_idx) będą jedną z współrzędnych macierzy H, natomiast drugą współrędną mozna uzyskać jako b_idx = np.argmin(abs(B - b)).\n",
    "        - każde a_idx i b_idx wyznaczą punkt w macierzy H, który należy zinkrementować\n",
    "- działanie funkcji należy przetestować na punktach generowanych w 'edytorku' z punktu \"Transformacja Hougha dla małej liczby punktów\". Proponowane parametry funkcji:\n",
    "    - aMin: -5\n",
    "    - aMax:  5\n",
    "    - aSkok: 0.05 \n",
    "    - bMin: -100\n",
    "    - bMax:  100\n",
    "    - bSkok: 1\n",
    "\n",
    "Zastanów się w przypadku jakich prostych reprezentacja ab nie sprawdzi się."
   ]
  },
  {
   "cell_type": "code",
   "execution_count": null,
   "metadata": {},
   "outputs": [],
   "source": [
    "import matplotlib.pyplot as plt\n",
    "import cv2\n",
    "import numpy as np\n",
    "import os\n",
    "from skimage.transform import hough_line, hough_line_peaks"
   ]
  },
  {
   "cell_type": "code",
   "execution_count": null,
   "metadata": {},
   "outputs": [],
   "source": [
    "def HoughSpaceAB(img, aMin=-5, aMax=5, aSkok=0.05, bMin=-100, bMax=100, bSkok=1):\n",
    "    V_a = np.arange(aMin, aMax, aSkok)\n",
    "    V_b = np.arange(bMin, bMax, bSkok)\n",
    "\n",
    "    H = np.zeros((V_b.shape[0], V_a.shape[0]))\n",
    "\n",
    "    for i in range(img.shape[0]):\n",
    "        for j in range(img.shape[1]):\n",
    "            if img[i, j] == 1:\n",
    "                for a_idx, value in enumerate(V_a):\n",
    "                    b = i - value * j\n",
    "                    b_idx = np.argmin(abs(V_b - b))\n",
    "                    \n",
    "                    H[b_idx, a_idx] += 1\n",
    "\n",
    "    return H"
   ]
  },
  {
   "cell_type": "code",
   "execution_count": null,
   "metadata": {},
   "outputs": [],
   "source": [
    "def show_hough(h, image):\n",
    "    fig, axes = plt.subplots(1, 2, figsize=(15, 6))\n",
    "    ax = axes.ravel()\n",
    "\n",
    "    ax[0].imshow(image, 'gray')\n",
    "    ax[0].set_title('Input image')\n",
    "    ax[0].set_axis_off()\n",
    "\n",
    "    ax[1].imshow(h, 'gray')\n",
    "    ax[1].set_title('Hough transform in ab representation')\n",
    "    ax[1].set_xlabel('Angles (degrees)')\n",
    "    ax[1].set_ylabel('Distance (pixels)')\n",
    "    ax[1].axis('image')\n",
    "    \n",
    "    plt.tight_layout()\n",
    "    plt.show()    "
   ]
  },
  {
   "cell_type": "code",
   "execution_count": null,
   "metadata": {},
   "outputs": [],
   "source": [
    "im_0 = np.zeros((64,64), dtype=np.uint8)\n",
    "\n",
    "im_0[18, 31] = 1\n",
    "\n",
    "show_hough(HoughSpaceAB(im_0), im_0)"
   ]
  },
  {
   "cell_type": "code",
   "execution_count": null,
   "metadata": {},
   "outputs": [],
   "source": [
    "im_1 = np.zeros((64,64), dtype=np.uint8)\n",
    "\n",
    "im_1[23, 23] = 1\n",
    "im_1[40, 30] = 1\n",
    "\n",
    "show_hough(HoughSpaceAB(im_1), im_1)"
   ]
  },
  {
   "cell_type": "code",
   "execution_count": null,
   "metadata": {},
   "outputs": [],
   "source": [
    "im_2 = np.zeros((64,64), dtype=np.uint8)\n",
    "\n",
    "im_2[32, 14] = 1\n",
    "im_2[32, 26] = 1\n",
    "im_2[32, 38] = 1\n",
    "im_2[32, 50] = 1\n",
    "\n",
    "show_hough(HoughSpaceAB(im_2), im_2)"
   ]
  },
  {
   "cell_type": "code",
   "execution_count": null,
   "metadata": {},
   "outputs": [],
   "source": [
    "if not os.path.exists(\"kwadraty.png\") :\n",
    "    !wget https://raw.githubusercontent.com/vision-agh/poc_sw/master/11_Hough/kwadraty.png --no-check-certificate\n",
    "\n",
    "kwadraty = cv2.imread('kwadraty.png',cv2.IMREAD_GRAYSCALE)\n",
    "contour_square = cv2.Canny(kwadraty, 20, 60, None, 3, 1)\n",
    "hough_square = hough_line(contour_square)\n",
    "\n",
    "def HoughSpaceAB(img, aMin=-5, aMax=5, aSkok=0.05, bMin=-100, bMax=100, bSkok=1):\n",
    "    V_a = np.arange(aMin, aMax, aSkok)\n",
    "    V_b = np.arange(bMin, bMax, bSkok)\n",
    "\n",
    "    H = np.zeros((V_b.shape[0], V_a.shape[0]))\n",
    "\n",
    "    for i in range(img.shape[0]):\n",
    "        for j in range(img.shape[1]):\n",
    "            if img[i, j] == 1:\n",
    "                for a_idx, value in enumerate(V_a):\n",
    "                    b = i - value * j\n",
    "                    b_idx = np.argmin(abs(V_b - b))\n",
    "                    \n",
    "                    H[b_idx, a_idx] = 1\n",
    "\n",
    "    return H\n",
    "\n",
    "show_hough(HoughSpaceAB(hough_square[0]), contour_square)"
   ]
  },
  {
   "cell_type": "code",
   "execution_count": null,
   "metadata": {},
   "outputs": [],
   "source": []
  }
 ],
 "metadata": {
  "celltoolbar": "Raw Cell Format",
  "kernelspec": {
   "display_name": "Python 3 (ipykernel)",
   "language": "python",
   "name": "python3"
  },
  "language_info": {
   "codemirror_mode": {
    "name": "ipython",
    "version": 3
   },
   "file_extension": ".py",
   "mimetype": "text/x-python",
   "name": "python",
   "nbconvert_exporter": "python",
   "pygments_lexer": "ipython3",
   "version": "3.8.10"
  }
 },
 "nbformat": 4,
 "nbformat_minor": 2
}
