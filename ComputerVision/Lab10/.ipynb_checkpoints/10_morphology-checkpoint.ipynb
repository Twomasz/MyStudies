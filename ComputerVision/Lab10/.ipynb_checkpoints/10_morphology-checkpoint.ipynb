{
 "cells": [
  {
   "cell_type": "markdown",
   "metadata": {},
   "source": [
    "# Przekształcenia morfologiczne\n",
    "\n",
    "## Cel:\n",
    "- zapoznanie z podstawowymi przekształceniami morfologicznymi – erozją, dylatacją, otwarciem, zamknieciem, transformacją trafi, nie trafi,\n",
    "- zapoznanie ze złożonymi operacjami morfologicznymi wykorzystującymi rekonstrukcję morfologiczną,\n",
    "- zapoznanie z operacjami morfologicznym dla obrazów w odcieniach szarości – erozją, dylatacją, otwarciem, zamknieciem, filtrami top-hat i bottom-hat,\n",
    "- zapoznanie z wykorzystaniem złożonych operacji morfologicznych przy rozwiązywaniu konkretnego problemu,\n",
    "- zadanie domowe: wykorzystanie morfologii do implementacji ,,gry w życie''."
   ]
  },
  {
   "cell_type": "markdown",
   "metadata": {},
   "source": [
    "## Przypomnienie teorii\n",
    "\n",
    "### Element strukturalny\n",
    "\n",
    "Element strukturalny obrazu jest to pewien wycinek obrazu (przy dyskretnej reprezentacji obrazu – pewien podzbiór jego elementów). Najcześciej stosowanym elementem strukturalnym jest kwadratowa maska o rozmiarze 3×3 lub 5×5. Niekiedy pożądane są maski o innym kształcie, np. zbliżonym do elipsy.\n",
    "\n",
    "### Erozja\n",
    "\n",
    "Erozja (ang. _erosion_) jest podstawowym przekształceniem morfologicznym. Zakładamy, że obraz wyjściowy zawiera pewien obszar (figurę) X, wyróżniający się pewną charakterystyczną cechą (np. odróżniającą się od tła jasnością). Figura X po wykonaniu operacji erozji to zbiór punktów centralnych wszystkich elementów strukturalnych, które w całości mieszczą się we wnetrzu obszaru X. Miarą stopnia erozji jest wielkość elementu strukturalnego.\n",
    "\n",
    "Erozje można traktować jako filtr minimalny, tj. z danego otoczenia piksela (określanego przez maskę) do obrazu wynikowego wybierana jest wartość minimalna.\n",
    "\n",
    "### Dylatacja\n",
    "\n",
    "Dylatacja (ang. _dilation_): Zakładamy, że obraz wejściowy zawiera obszar X wyróżniający się pewną charakterystyczną cechą (np. jasnością). Figura przekształcona przez dylatacje to zbiór punktów centralnych wszystkich elementów strukturalnych, których którykolwiek punkt mieści sie we wnetrzu obszaru X. Miarą  dylatacji jest wielkość elementu strukturalnego.\n",
    "\n",
    "Dylatacje można traktować jako filtr maksymalny, tj. z danego otoczenia piksela (określanego\n",
    "przez maske) do obrazu wynikowego wybierana jest wartość maksymalna.\n",
    "\n",
    "### Otwarcie i zamknięcie\n",
    "\n",
    "Otwarcie (ang. _opening_) polega na wykonaniu najpierw operacji erozji, a nastepnie dylatacji.\n",
    "\n",
    "> Otwarcie = erozja + dylatacja\n",
    "\n",
    "Zamkniecie (ang. _closing_) polega na wykonaniu najpierw operacji dylatacji, a nastepnie erozji.\n",
    "\n",
    "> Zamkniecie = dylatacja + erozja\n",
    "\n",
    "### Obrazy w odcieniu szarości\n",
    "\n",
    "Obrazy w odcieniu szarości – detekcja dolin i szczytów (top-hat, bottom-hat):\n",
    "\n",
    "Aby wyodrebnić z obrazu lokalne ekstrema można wykorzystać zdefiniowane wcześniej przekształcenia: otwarcie i zamkniecie. W celu wyszukania lokalnych maksimów (szczytów) należy od wyniku otwarcia danego obrazu odjąć obraz wyjściowy. Analogicznie, aby wyodrebnić lokalne minima obrazu, należy dokonać podobnej operacji, z tym że pierwszą operacją bedzie zamkniecie. Uwaga! Należy zwrócić uwagę, że poniższe metody służą do detekcji (pokreślenia) tylko lokalnych ekstremów!"
   ]
  },
  {
   "cell_type": "markdown",
   "metadata": {},
   "source": [
    "## Podstawowe operacje morfologiczne: erozja, dylatacja, otwarcie, zamknięcie, trafi nie trafi\n",
    "\n",
    "1. Wczytaj obraz ertka.bmp\n",
    "2. Wykonaj operację erozji `cv2.erode`. Parametrami funkcji są obraz oraz element strukturalny. Element można stworzyć samodzielnie jako tablicę składającą się z 0 i 1 `np.ones((3,3))` lub posłużyć się funkcją `cv2.getStructuringElement`, do której należy podać kształt `cv2.MORPH_RECT` oraz wielkość elementu `(3,3)`. Na początku użyj kwadratu o rozmiarze 3 pikseli.\n",
    "3. Wyświetl obraz oryginalny oraz po wykonaniu erozji – najlepiej na wspólnym wykresie. Upewnij się, że rozumiesz, jak działa erozja.\n",
    "4. Zmień element strukturalny (inny kształt – koło, diament lub inny rozmiar). Ponownie wykonaj erozję, sprawdź rezultat działania operacji.\n",
    "5. Oprócz zmiany elementu strukturalnego na rezultat erozji można wpłynąć zwiększając liczbę iteracji (np. wykonać erozję trzykrotnie). Ustal element strukturalny na kwadrat o boku 3 piksele. Wykonaj erozję obrazu _ertka_ dwukrotnie, a następnie trzykrotnie. Zaobserwuj rezultaty. Wskazówka: warto zajrzeć do dokumentacji funkcji `erode`.\n",
    "6. Wczytaj obraz buzka.bmp. Dobierz element strukturalny (zdefiniuj go ręcznie jako macierz 0 i 1) w taki sposób, aby usunąć włosy o określonej orientacji (ukośnie lewo lub prawo).\n",
    "7. Uwaga: pokazane metody wpływania na rezultaty erozji wykorzystuje się identycznie dla pozostałych operacji morfologicznych – dylatacji, otwarcia i zamknięcia.\n",
    "8. Operacją odwrotną do erozji jest dylatacja `cv2.dilate`. Ustal element strukturalny na kwadrat o boku 3 piksele. Wykonaj dylatację obrazu _ertka_. Zapoznaj się z rezultatem działania.\n",
    "9. Na wspólnym wykresie wyświetl obraz oryginalny oraz obrazy po operacjach morfologicznych: erozja, dylatacja, otwarcie i zamkniecie. Otwarcie i zamknięcie można uzyskać za pomocą `cv2.morphologyEx(img, operacja, element_strukturalny)`, gdzie typem operacji jest `cv2.MORPH_OPEN` lub `cv2.MORPH_CLOSE`.\n",
    "10. Zmień obraz _ertka_ na _wyspa_, a następnie na _kolka_. Wykonaj na każdym cztery przedstawione operacje morfologiczne. Zaobserwuj rezultaty.\n",
    "11. Minizadanko: wykorzystując poznane operacje morfologiczne spowoduj, że na obrazie _ertka_ pozostanie tylko napis RT (bez wypustek i dziur).\n",
    "12. Niekiedy potrzebne jest wykrycie konkretnych konfiguracji pikseli na obrazie – przydaje się do tego transformacja trafi, nie trafi (ang. _hit-or-miss_). Pozwala ona wykryć na obrazie obecność elementów, które dokładnie odpowiadają masce.\n",
    "13. Wczytaj obraz hom.bmp. Wyświetl go. Załóżmy, że chcemy wykryć na obrazie krzyżyki 3x3. Zdefiniuj następujący element strukturalny:\n",
    "```\n",
    "[0,1,0]\n",
    "[1,1,1]\n",
    "[0,1,0]\n",
    "```\n",
    "Wykonaj transformację trafi, nie trafi – `cv2.morphologyEx(hom, cv2.MORPH_HITMISS, se1)`. Rezultat operacji wyświetl. Czy udało się zrealizować zadanie? Jeżeli pojawiają się u Państwa błędy związane z typem danych, należy obraz wejściowy przekonwertować na skalę szarości: `cv2.cvtColor(hom, cv2.COLOR_BGR2GRAY)`.\n"
   ]
  },
  {
   "cell_type": "code",
   "execution_count": null,
   "metadata": {},
   "outputs": [],
   "source": [
    "import matplotlib.pyplot as plt\n",
    "import cv2\n",
    "import numpy as np\n",
    "import os\n",
    "\n",
    "if not os.path.exists(\"buzka.bmp\") :\n",
    "    !wget https://raw.githubusercontent.com/vision-agh/poc_sw/master/10_Morphology/buzka.bmp --no-check-certificate\n",
    "if not os.path.exists(\"calculator.bmp\") :\n",
    "    !wget https://raw.githubusercontent.com/vision-agh/poc_sw/master/10_Morphology/calculator.bmp --no-check-certificate\n",
    "if not os.path.exists(\"ertka.bmp\") :\n",
    "    !wget https://raw.githubusercontent.com/vision-agh/poc_sw/master/10_Morphology/ertka.bmp --no-check-certificate\n",
    "if not os.path.exists(\"ferrari.bmp\") :\n",
    "    !wget https://raw.githubusercontent.com/vision-agh/poc_sw/master/10_Morphology/ferrari.bmp --no-check-certificate\n",
    "if not os.path.exists(\"fingerprint.bmp\") :\n",
    "    !wget https://raw.githubusercontent.com/vision-agh/poc_sw/master/10_Morphology/fingerprint.bmp --no-check-certificate\n",
    "if not os.path.exists(\"hom.bmp\") :\n",
    "    !wget https://raw.githubusercontent.com/vision-agh/poc_sw/master/10_Morphology/hom.bmp --no-check-certificate\n",
    "if not os.path.exists(\"kolka.bmp\") :\n",
    "    !wget https://raw.githubusercontent.com/vision-agh/poc_sw/master/10_Morphology/kolka.bmp --no-check-certificate\n",
    "if not os.path.exists(\"kosc.bmp\") :\n",
    "    !wget https://raw.githubusercontent.com/vision-agh/poc_sw/master/10_Morphology/kosc.bmp --no-check-certificate\n",
    "if not os.path.exists(\"szkielet.bmp\") :\n",
    "    !wget https://raw.githubusercontent.com/vision-agh/poc_sw/master/10_Morphology/szkielet.bmp --no-check-certificate\n",
    "if not os.path.exists(\"text.bmp\") :\n",
    "    !wget https://raw.githubusercontent.com/vision-agh/poc_sw/master/10_Morphology/text.bmp --no-check-certificate\n",
    "if not os.path.exists(\"wyspa.bmp\") :\n",
    "    !wget https://raw.githubusercontent.com/vision-agh/poc_sw/master/10_Morphology/wyspa.bmp --no-check-certificate\n",
    "if not os.path.exists(\"rice.png\") :\n",
    "    !wget https://raw.githubusercontent.com/vision-agh/poc_sw/master/10_Morphology/rice.png --no-check-certificate\n",
    "        \n",
    "buzka = cv2.imread('buzka.bmp', cv2.IMREAD_GRAYSCALE)\n",
    "calculator = cv2.imread('calculator.bmp', cv2.IMREAD_GRAYSCALE)\n",
    "ertka = cv2.imread('ertka.bmp', cv2.IMREAD_GRAYSCALE)\n",
    "ferrari = cv2.imread('ferrari.bmp', cv2.IMREAD_GRAYSCALE)\n",
    "fingerprint = cv2.imread('fingerprint.bmp', cv2.IMREAD_GRAYSCALE)\n",
    "hom = cv2.imread('hom.bmp', cv2.IMREAD_GRAYSCALE)\n",
    "kolka = cv2.imread('kolka.bmp', cv2.IMREAD_GRAYSCALE)\n",
    "kosc = cv2.imread('kosc.bmp', cv2.IMREAD_GRAYSCALE)\n",
    "szkielet = cv2.imread('szkielet.bmp', cv2.IMREAD_GRAYSCALE)\n",
    "text = cv2.imread('text.bmp', cv2.IMREAD_GRAYSCALE)\n",
    "wyspa = cv2.imread('wyspa.bmp', cv2.IMREAD_GRAYSCALE)\n",
    "rice = cv2.imread('rice.png', cv2.IMREAD_GRAYSCALE)"
   ]
  },
  {
   "cell_type": "code",
   "execution_count": null,
   "metadata": {
    "scrolled": true
   },
   "outputs": [],
   "source": [
    "element_0 = cv2.getStructuringElement(cv2.MORPH_RECT, (3,3))\n",
    "ertka_erode_0 = cv2.erode(ertka, element_0)\n",
    "\n",
    "\n",
    "fig, ax = plt.subplots(1, 2)\n",
    "fig.set_size_inches((12, 10))\n",
    "ax[0].imshow(ertka, 'gray')\n",
    "ax[0].set_title('Obraz oryginalny')\n",
    "ax[0].axis('off')\n",
    "ax[1].imshow(ertka_erode_0, 'gray')\n",
    "ax[1].set_title('Obraz po wykonaniu erozji')\n",
    "ax[1].axis('off')\n",
    "plt.show()"
   ]
  },
  {
   "cell_type": "code",
   "execution_count": null,
   "metadata": {
    "scrolled": true
   },
   "outputs": [],
   "source": [
    "element_1 = cv2.getStructuringElement(cv2.MORPH_ELLIPSE, (5,5))\n",
    "ertka_erode_1 = cv2.erode(ertka, element_1)\n",
    "\n",
    "ertka_erode_2 = cv2.erode(ertka_erode_0, element_0)\n",
    "\n",
    "ertka_erode_3 = cv2.erode(ertka_erode_2, element_0)\n",
    "\n",
    "fig, ax = plt.subplots(1, 3)\n",
    "fig.set_size_inches((16, 10))\n",
    "ax[0].imshow(ertka_erode_1, 'gray')\n",
    "ax[0].set_title('Zmiana rozmiaru elementu strukt.')\n",
    "ax[0].axis('off')\n",
    "ax[1].imshow(ertka_erode_2, 'gray')\n",
    "ax[1].set_title('2-krotna erozja')\n",
    "ax[1].axis('off')\n",
    "ax[2].imshow(ertka_erode_3, 'gray')\n",
    "ax[2].set_title('3-krotna erozja')\n",
    "ax[2].axis('off')\n",
    "plt.show()"
   ]
  },
  {
   "cell_type": "markdown",
   "metadata": {},
   "source": [
    "#### Można zaobserwować, że wraz ze zwiększeniem romiaru elementu strukturalnego, bądź ilością operacji kształty zawarte w obrazie się powiększają/pogrubiają"
   ]
  },
  {
   "cell_type": "code",
   "execution_count": null,
   "metadata": {
    "scrolled": false
   },
   "outputs": [],
   "source": [
    "element_diag = np.array([[1,0,0],\n",
    "                         [0,1,0],\n",
    "                         [0,0,1]], dtype='uint8')\n",
    "\n",
    "element_diag_symetric = np.array([[0,0,1],\n",
    "                                  [0,1,0],\n",
    "                                  [1,0,0]], dtype='uint8')\n",
    "\n",
    "buzka_erode_right = cv2.erode(buzka, element_diag)\n",
    "buzka_erode_left = cv2.erode(buzka, element_diag_symetric)\n",
    "\n",
    "fig, ax = plt.subplots(1, 3)\n",
    "fig.set_size_inches((16, 10))\n",
    "ax[0].imshow(buzka, 'gray')\n",
    "ax[0].set_title('Obraz oryginalny')\n",
    "ax[0].axis('off')\n",
    "ax[1].imshow(buzka_erode_left, 'gray')\n",
    "ax[1].set_title('Usunięcie z obrazu włosów na lewo')\n",
    "ax[1].axis('off')\n",
    "ax[2].imshow(buzka_erode_right, 'gray')\n",
    "ax[2].set_title('Usunięcie z obrazu włosów na prawo')\n",
    "ax[2].axis('off')\n",
    "plt.show()"
   ]
  },
  {
   "cell_type": "code",
   "execution_count": null,
   "metadata": {},
   "outputs": [],
   "source": [
    "element_3 = np.ones((3,3))\n",
    "ertka_dilate = cv2.dilate(ertka, element_3)\n",
    "\n",
    "\n",
    "fig, ax = plt.subplots(1, 2)\n",
    "fig.set_size_inches((12, 10))\n",
    "ax[0].imshow(ertka, 'gray')\n",
    "ax[0].set_title('Obraz oryginalny')\n",
    "ax[0].axis('off')\n",
    "ax[1].imshow(ertka_dilate, 'gray')\n",
    "ax[1].set_title('Obraz po wykonaniu dylatacji')\n",
    "ax[1].axis('off')\n",
    "plt.show()"
   ]
  },
  {
   "cell_type": "code",
   "execution_count": null,
   "metadata": {
    "scrolled": false
   },
   "outputs": [],
   "source": [
    "ertka_open = cv2.morphologyEx(ertka, cv2.MORPH_OPEN, element_3)\n",
    "ertka_close = cv2.morphologyEx(ertka, cv2.MORPH_CLOSE, element_3)\n",
    "\n",
    "fig, ax = plt.subplots(2, 2)\n",
    "fig.set_size_inches((12, 9))\n",
    "ax[0,0].imshow(ertka_erode_0, 'gray')\n",
    "ax[0,0].set_title('Erozja')\n",
    "ax[0,0].axis('off')\n",
    "ax[0,1].imshow(ertka_dilate, 'gray')\n",
    "ax[0,1].set_title('Dylatacja')\n",
    "ax[0,1].axis('off')\n",
    "ax[1,0].imshow(ertka_open, 'gray')\n",
    "ax[1,0].set_title('Otwarcie')\n",
    "ax[1,0].axis('off')\n",
    "ax[1,1].imshow(ertka_close, 'gray')\n",
    "ax[1,1].set_title('Zamknięcie')\n",
    "ax[1,1].axis('off')\n",
    "plt.show()"
   ]
  },
  {
   "cell_type": "code",
   "execution_count": null,
   "metadata": {},
   "outputs": [],
   "source": [
    "wyspa_erode = cv2.erode(wyspa, element_3)\n",
    "wyspa_dilate = cv2.dilate(wyspa, element_3)\n",
    "wyspa_open = cv2.morphologyEx(wyspa, cv2.MORPH_OPEN, element_3)\n",
    "wyspa_close = cv2.morphologyEx(wyspa, cv2.MORPH_CLOSE, element_3)\n",
    "\n",
    "plt.imshow(wyspa, 'gray')\n",
    "plt.title('Obraz oryginalny')\n",
    "plt.axis('off')\n",
    "plt.show()\n",
    "\n",
    "fig, ax = plt.subplots(2, 2)\n",
    "fig.set_size_inches((8, 8))\n",
    "ax[0,0].imshow(wyspa_erode, 'gray')\n",
    "ax[0,0].set_title('Erozja')\n",
    "ax[0,0].axis('off')\n",
    "ax[0,1].imshow(wyspa_dilate, 'gray')\n",
    "ax[0,1].set_title('Dylatacja')\n",
    "ax[0,1].axis('off')\n",
    "ax[1,0].imshow(wyspa_open, 'gray')\n",
    "ax[1,0].set_title('Otwarcie')\n",
    "ax[1,0].axis('off')\n",
    "ax[1,1].imshow(wyspa_close, 'gray')\n",
    "ax[1,1].set_title('Zamknięcie')\n",
    "ax[1,1].axis('off')\n",
    "plt.show()"
   ]
  },
  {
   "cell_type": "code",
   "execution_count": null,
   "metadata": {
    "scrolled": false
   },
   "outputs": [],
   "source": [
    "kolka_erode = cv2.erode(kolka, element_3)\n",
    "kolka_dilate = cv2.dilate(kolka, element_3)\n",
    "kolka_open = cv2.morphologyEx(kolka, cv2.MORPH_OPEN, element_3)\n",
    "kolka_close = cv2.morphologyEx(kolka, cv2.MORPH_CLOSE, element_3)\n",
    "\n",
    "plt.imshow(kolka, 'gray')\n",
    "plt.title('Obraz oryginalny')\n",
    "plt.axis('off')\n",
    "plt.show()\n",
    "\n",
    "fig, ax = plt.subplots(2, 2)\n",
    "fig.set_size_inches((8, 8))\n",
    "ax[0,0].imshow(kolka_erode, 'gray')\n",
    "ax[0,0].set_title('Erozja')\n",
    "ax[0,0].axis('off')\n",
    "ax[0,1].imshow(kolka_dilate, 'gray')\n",
    "ax[0,1].set_title('Dylatacja')\n",
    "ax[0,1].axis('off')\n",
    "ax[1,0].imshow(kolka_open, 'gray')\n",
    "ax[1,0].set_title('Otwarcie')\n",
    "ax[1,0].axis('off')\n",
    "ax[1,1].imshow(kolka_close, 'gray')\n",
    "ax[1,1].set_title('Zamknięcie')\n",
    "ax[1,1].axis('off')\n",
    "plt.show()"
   ]
  },
  {
   "cell_type": "code",
   "execution_count": null,
   "metadata": {
    "scrolled": true
   },
   "outputs": [],
   "source": [
    "# Należało zastosować erozję by usunąć \"włosy\" wyrastające z liter, a nastepnie przeprowadzić 2 razy dylatację.\n",
    "# 1-szy raz w celu zniwelowania działania erozji wewnątrz liter, a 2-gi raz w celu całkowitego usunięcia kształtów wewnątrz\n",
    "exercise = cv2.dilate(cv2.dilate(ertka_erode_0, element_3), element_3)\n",
    "\n",
    "plt.imshow(exercise, 'gray')\n",
    "plt.title('Wynik minizadanka')\n",
    "plt.axis('off')\n",
    "plt.show()"
   ]
  },
  {
   "cell_type": "markdown",
   "metadata": {},
   "source": [
    "#### Komentarz: Należało zastosować erozję by usunąć \"włosy\" wyrastające z liter, a nastepnie przeprowadzić 2 razy dylatację. 1-szy raz w celu zniwelowania działania erozji wewnątrz liter, a 2-gi raz w celu całkowitego usunięcia kształtów wewnątrz"
   ]
  },
  {
   "cell_type": "code",
   "execution_count": null,
   "metadata": {},
   "outputs": [],
   "source": [
    "element_cross =cv2.getStructuringElement(cv2.MORPH_CROSS, (3,3))\n",
    "\n",
    "hom_detect_cross = cv2.morphologyEx(hom, cv2.MORPH_HITMISS, element_cross)\n",
    "\n",
    "fig, ax = plt.subplots(1, 2)\n",
    "fig.set_size_inches((12, 10))\n",
    "ax[0].imshow(hom, 'gray')\n",
    "ax[0].set_title('Obraz oryginalny')\n",
    "ax[0].axis('off')\n",
    "ax[1].imshow(hom_detect_cross, 'gray')\n",
    "ax[1].set_title('Transformacja trafi, nie trafi')\n",
    "ax[1].axis('off')\n",
    "plt.show()"
   ]
  },
  {
   "cell_type": "markdown",
   "metadata": {},
   "source": [
    "## Inne operacje morfologiczne\n",
    "Do innych operacji morfologicznych należą między innymi ścienianie (ang. _thinning_), szkieletyzacja (ang. _skeletonization_), rekonstrukcja morfologiczna (ang. _morphological reconstruction_), czyszczenie brzegu (ang. _clearing border_) i uzupełnianie dziur (ang. _filling holes_). W tym rozdziale zostanie zaprezentowana rekonstrukcja morfologiczna.\n",
    "\n",
    "Rekonstrukcja morfologiczna jest operacją trójargumentową. Wymaga podania markera (obrazu, od którego zacznie się transformacja), maski (ograniczenia transformacji) oraz elementu strukturalnego. Operacja polega na wykonywaniu kroków (dopóki w dwóch kolejnych iteracjach nic się nie zmieni):\n",
    "- dylatacja obrazu markera (z danym elementem strukturalnym),\n",
    "- nowy marker = część wspólna dylatacji starego markera i maski.\n",
    "\n",
    "Trzy operacje, które wykorzystują schemat rekonstrukcji to: \n",
    "- otwarcie poprzez rekonstrukcję,\n",
    "- wypełnianie dziur,\n",
    "- czyszczenie brzegu.\n",
    "\n",
    "### Otwarcie poprzez rekonstrukcję:\n",
    "- Wczytaj obraz text.bmp, wyświetl go.\n",
    "- Załóżmy, że chcemy wykryć na obrazie litery, które zawierają długie pionowe fragmenty. W pierwszym podejściu stosujemy morfologiczne otwarcie z maską pionową o wysokości 51 pikseli (taka jest średnia wysokość liter na obrazie – `np.ones((51,1))`. Sprawdź rezultat takiej operacji.\n",
    "- Detekcja wprawdzie sie udała, ale otrzymujemy tylko pionowe kreski.\n",
    "- Rozwiązaniem jest rekonstrukcja – jako marker wybieramy obraz oryginalny poddany erozji. Maskę stanowi obraz oryginalny. Samodzielnie dobierz element strukturalny.\n",
    "- Zaimplementuj rekonstrukcję i porównaj efekt otwarcia i rekonstrukcji.\n"
   ]
  },
  {
   "cell_type": "code",
   "execution_count": null,
   "metadata": {},
   "outputs": [],
   "source": [
    "vertical_elem = np.ones((51,1))\n",
    "\n",
    "text_open = cv2.morphologyEx(text, cv2.MORPH_OPEN, vertical_elem)\n",
    "\n",
    "fig, ax = plt.subplots(1, 2)\n",
    "fig.set_size_inches((16, 10))\n",
    "ax[0].imshow(text, 'gray')\n",
    "ax[0].set_title('Obraz oryginalny')\n",
    "ax[0].axis('off')\n",
    "ax[1].imshow(text_open, 'gray')\n",
    "ax[1].set_title('Otwarcie z pionową maską')\n",
    "ax[1].axis('off')\n",
    "plt.show()"
   ]
  },
  {
   "cell_type": "code",
   "execution_count": null,
   "metadata": {},
   "outputs": [],
   "source": [
    "def reconstruction(marker, mask, element):\n",
    "    dilate = cv2.dilate(marker, element)\n",
    "    new_marker = np.bitwise_and(dilate, mask)\n",
    "    \n",
    "    while not (marker == new_marker).all():\n",
    "        marker = new_marker\n",
    "        dilate = cv2.dilate(marker, element)\n",
    "        new_marker = np.bitwise_and(dilate, mask)\n",
    "        \n",
    "    return marker"
   ]
  },
  {
   "cell_type": "code",
   "execution_count": null,
   "metadata": {},
   "outputs": [],
   "source": [
    "element = np.ones((3,3), dtype=np.uint8)\n",
    "\n",
    "marker = cv2.erode(text, vertical_elem)\n",
    "\n",
    "result = reconstruction(marker, text, element)\n",
    "\n",
    "plt.figure(figsize=(8, 5))\n",
    "plt.imshow(result, 'gray')\n",
    "plt.title('Wynik działania funkcji rekonstrukcyjnej')\n",
    "plt.axis('off')\n",
    "plt.show()"
   ]
  },
  {
   "cell_type": "markdown",
   "metadata": {},
   "source": [
    "## Operacje morfologiczne dla obrazów w skali szarości\n",
    "\n",
    "Wszystkie dotychczasowe operacje (oprócz transformacji trafi, nie trafi) mają swoje odpowieniki dla obrazów w skali szarości. Konieczne jest tylko podanie definicji erozji i dylatacji w nieco innej formie:\n",
    "- Erozja – filtr minimalny.\n",
    "- Dylatacja – filtr maksymalny.\n",
    "\n",
    "\n",
    "1. Wczytaj obraz ferrari.bmp i wykonaj operacje morfologiczne: erozję i dylatację. Element strukturalny ustal na kwadrat 3×3. Oblicz też różnicę pomiędzy obrazem po dylatacji a po erozji – czyli tzw. gradient morfologiczny. Rezultaty wyświetl na wspólnym wykresie.\n",
    "2. Otwarcie to tłumienie jasnych detali na obrazie. Zamkniecie to tłumienie ciemnych detali na obrazie. Potwierdź powyższe stwierdzenia wykonując obie operacje na obrazie _ferrari_.\n",
    "3. Wykonaj operacje top-hat i bottom-hat `cv2.morphologyEx(img, cv2.MORPH_TOPHAT, strel)` oraz `cv2.morphologyEx(img, cv2.MORPH_BLACKHAT, strel)` na obrazie _ferrari_. Jakie obszary udało sie wykryć za pomocą tej operacji? Z jakich operacji składa sie filtr top-hat?\n",
    "4. Wczytaj obraz rice.png (z laboratorium o binaryzacji). Wyświetl go. Zwróć uwage na niejednorodne oświetlenie. Wykonaj operacje top-hat z dużym elementem strukturalnym (np. koło o rozmiarze 10) na tym obrazie. Wynik wyświetl. Co stało się z niejednorodnością oświetlenia?"
   ]
  },
  {
   "cell_type": "code",
   "execution_count": null,
   "metadata": {
    "pycharm": {
     "name": "#%%\n"
    }
   },
   "outputs": [],
   "source": [
    "ferrari_erode = cv2.erode(ferrari, element)\n",
    "ferrari_dilate = cv2.dilate(ferrari, element)\n",
    "\n",
    "fig, ax = plt.subplots(1, 3)\n",
    "fig.set_size_inches((18, 10))\n",
    "ax[0].imshow(ferrari_erode, 'gray')\n",
    "ax[0].set_title('Erozja obrazu ferrari')\n",
    "ax[0].axis('off')\n",
    "ax[1].imshow(ferrari_dilate, 'gray')\n",
    "ax[1].set_title('Dylatacja obrazu ferrari')\n",
    "ax[1].axis('off')\n",
    "ax[2].imshow(ferrari_dilate - ferrari_erode, 'gray')\n",
    "ax[2].set_title('Różnica miezy dylacją, a erozją')\n",
    "ax[2].axis('off')\n",
    "plt.show()"
   ]
  },
  {
   "cell_type": "code",
   "execution_count": null,
   "metadata": {},
   "outputs": [],
   "source": [
    "ferrari_open = cv2.morphologyEx(ferrari, cv2.MORPH_OPEN, element)\n",
    "ferrari_close = cv2.morphologyEx(ferrari, cv2.MORPH_CLOSE, element)\n",
    "\n",
    "fig, ax = plt.subplots(1, 3)\n",
    "fig.set_size_inches((18, 10))\n",
    "ax[0].imshow(ferrari, 'gray')\n",
    "ax[0].set_title('Obraz oryginalny')\n",
    "ax[0].axis('off')\n",
    "ax[1].imshow(ferrari_open, 'gray')\n",
    "ax[1].set_title('Otwarcie tj. tłumienie jasnych elementów')\n",
    "ax[1].axis('off')\n",
    "ax[2].imshow(ferrari_close, 'gray')\n",
    "ax[2].set_title('Zamknięcie tj. tłumienie ciemnych elementów')\n",
    "ax[2].axis('off')\n",
    "plt.show()"
   ]
  },
  {
   "cell_type": "code",
   "execution_count": null,
   "metadata": {},
   "outputs": [],
   "source": [
    "ferrari_tophat = cv2.morphologyEx(ferrari, cv2.MORPH_TOPHAT, element)\n",
    "ferrari_bottomhat = cv2.morphologyEx(ferrari, cv2.MORPH_BLACKHAT, element)\n",
    "\n",
    "fig, ax = plt.subplots(1, 2)\n",
    "fig.set_size_inches((12, 10))\n",
    "ax[0].imshow(ferrari_tophat, 'gray')\n",
    "ax[0].set_title('Operacja top-hat')\n",
    "ax[0].axis('off')\n",
    "ax[1].imshow(ferrari_bottomhat, 'gray')\n",
    "ax[1].set_title('Operacja bottom-hat')\n",
    "ax[1].axis('off')\n",
    "plt.show()"
   ]
  },
  {
   "cell_type": "markdown",
   "metadata": {},
   "source": [
    "#### Filtr top-hat wyróżnia jasne elementy na ciemnym tle, natomiast filtr bottom-hat wyróżnia ciemne elementy na jasnym tle. Filtr top-hat składa się z  odejmowania (oryginalny rysunek - operacja otwarcia tego obrazu)."
   ]
  },
  {
   "cell_type": "code",
   "execution_count": null,
   "metadata": {
    "scrolled": false
   },
   "outputs": [],
   "source": [
    "element_circle = cv2.getStructuringElement(cv2.MORPH_ELLIPSE, (10,10))\n",
    "\n",
    "rice_tophat = cv2.morphologyEx(rice, cv2.MORPH_TOPHAT, element_circle)\n",
    "\n",
    "fig, axs = plt.subplots(1,2)\n",
    "fig.set_size_inches(16, 10)\n",
    "axs[0].imshow(rice, 'gray')\n",
    "axs[0].set_title('Obraz oryginalny')\n",
    "axs[0].axis('off')\n",
    "axs[1].imshow(rice_tophat, 'gray')\n",
    "axs[1].set_title('Operacja top-hat z dużym elementem strukturalnym')\n",
    "axs[1].axis('off')\n",
    "plt.show()"
   ]
  },
  {
   "cell_type": "code",
   "execution_count": null,
   "metadata": {},
   "outputs": [],
   "source": [
    "print(np.max(rice), np.max(rice_tophat))"
   ]
  },
  {
   "cell_type": "markdown",
   "metadata": {},
   "source": [
    "#### Po operacji top-hat dla obrazu rice.png tło zostało ujednolicone, przy czym maksymalna jasność w przetworzonym obrazie spadła o połowę, czego nie widać na wynikowym obrazie, poprzez normalizację zawartą w funkcji imshow"
   ]
  },
  {
   "cell_type": "markdown",
   "metadata": {},
   "source": [
    "## Przykład zastosowania morfologii\n",
    "\n",
    "1. Wczytaj obraz calculator.bmp. Wyświetl go. Zadanie do realizacji: wyizolować tekst na klawiszach kalkulatora.\n",
    "2. W pierwszym kroku usunięte zostaną poziome odbicia znajdujące się na górnej krawędzi każdego z klawiszy. Wykorzystamy fakt, że odbicie jest dłuższe niż jakikolwiek pojedynczy znak. Wykonujemy otwarcie przez rekonstrukcję (można wykorzystać kod z wcześniejszego zadania, ale tym razem mamy do czynienia z obrazem w skali szarości zamiast z binarnym – proszę się zastanowić, jaka operacja jest odpowiednikiem operacji AND?):\n",
    "  - początkowo wykonujemy erozję z elementem strukturalnym w postaci poziomej linii — `np.ones((1,71))`,\n",
    "  - następnie dokonujemy rekonstrukcji: marker – obraz po erozji, maska – obraz oryginalny,\n",
    "  - wynik operacji wyświetl. Dla porównania wyświetl wynik klasycznego otwarcia z takim samym elementem strukturalnym. W czym otwarcie przez rekonstrukcję jest lepsze od klasycznego?\n",
    "3. W poprzednim kroku (tj. w wyniku otwarcia przez rekonstrukcję) uzyskaliśmy obraz tła. Należy go teraz odjąć od obrazu oryginalnego. Ten rodzaj operacji można nazwać top-hat poprzez rekonstrukcję. Wynik wyświetl. Dla porównania wyświetl wynik klasycznej operacji top-hat – różnicy miedzy obrazem oryginalnym a obrazem po klasycznym otwarciu.\n",
    "4. W podobny sposób należy zlikwidować odblaski pionowe:\n",
    "  - erozja z elementem strukturalnym w postaci poziomej linii – `np.ones((1,11))` – zostaną zachowane wszystkie znaki (bo prawie wszystkie są szersze). Uwaga. Operacje wykonujemy na uzyskanym w kroku 3 rezultacie odjęcia od obrazu oryginalnego, obrazu po rekonstrukcji.\n",
    "  - rekonstrukcja: marker – obraz po erozji, maska – obraz z punktu 3 (różnica oryginalnego i tła),\n",
    "  - wynik wyświetl.\n",
    "5. Rezultat jest niemal satysfakcjonujący, ale wystąpił problem z cienkimi pionowymi elementami napisów – np. I na klawiszu ASIN. Wykorzystując fakt, że usunięte znaki znajdują się w bezpośrednim sąsiedztwie istniejących znaków wykonujemy następujące operacje:\n",
    "  - dylatacja z elementem `np.ones((1,21))`,\n",
    "  - rekonstrukcja z markerem w postaci – minimum(obraz po dylatacji z punktu powyżej, obraz uzyskany w punkcie 3, tj. różnica oryginalnego i tła) oraz maską – obraz z pkt. 3.\n",
    "6. Rezultat wyświetl. Czy za pomocą zaproponowanych operacji udało się uzyskać zamierzony efekt – ekstrakcję napisów?\n"
   ]
  },
  {
   "cell_type": "code",
   "execution_count": null,
   "metadata": {
    "pycharm": {
     "name": "#%%\n"
    },
    "scrolled": true
   },
   "outputs": [],
   "source": [
    "# krok 1\n",
    "\n",
    "plt.figure(figsize=(8, 5))\n",
    "plt.imshow(calculator, 'gray')\n",
    "plt.title('Obraz oryginalny')\n",
    "plt.axis('off')\n",
    "plt.show()"
   ]
  },
  {
   "cell_type": "code",
   "execution_count": null,
   "metadata": {},
   "outputs": [],
   "source": [
    "def reconstruction_v2(marker, mask, element):\n",
    "    dilate = cv2.dilate(marker, element)\n",
    "    new_marker = np.min((dilate, mask), axis=0)\n",
    "    \n",
    "    while not (marker == new_marker).all():\n",
    "        marker = new_marker\n",
    "        dilate = cv2.dilate(marker, element)\n",
    "        new_marker = np.min((dilate, mask), axis=0)\n",
    "        \n",
    "    return marker"
   ]
  },
  {
   "cell_type": "code",
   "execution_count": null,
   "metadata": {
    "scrolled": true
   },
   "outputs": [],
   "source": [
    "# krok 2\n",
    "\n",
    "marker = cv2.erode(calculator, np.ones((1,71)))\n",
    "calculator_reco = reconstruction_v2(marker, calculator, np.ones((3,3)))\n",
    "\n",
    "calculator_open = cv2.morphologyEx(calculator, cv2.MORPH_OPEN, np.ones((1,71)))\n",
    "\n",
    "fig, axs = plt.subplots(1,2)\n",
    "fig.set_size_inches(12, 10)\n",
    "axs[0].imshow(calculator_reco, 'gray')\n",
    "axs[0].set_title('Operacja rekonstrukcji')\n",
    "axs[0].axis('off')\n",
    "axs[1].imshow(calculator_open, 'gray')\n",
    "axs[1].set_title('Operacja otwarcia z dużym elementem pionowym')\n",
    "axs[1].axis('off')\n",
    "plt.show()"
   ]
  },
  {
   "cell_type": "markdown",
   "metadata": {},
   "source": [
    "#### Operacja rekonstrukcji jest lepsza, gdyż nie łączy poziomych prostokątnych pól nad i pomiędzy przyciskami kalkulatora"
   ]
  },
  {
   "cell_type": "code",
   "execution_count": null,
   "metadata": {},
   "outputs": [],
   "source": [
    "# krok 3\n",
    "\n",
    "calculator_reco_tophat = calculator - calculator_reco\n",
    "calculator_tophat =cv2.morphologyEx(calculator, cv2.MORPH_TOPHAT, np.ones((1,71)))\n",
    "\n",
    "fig, axs = plt.subplots(1,2)\n",
    "fig.set_size_inches(12, 10)\n",
    "axs[0].imshow(calculator_reco_tophat, 'gray')\n",
    "axs[0].set_title('Operacja rekonstrukcji')\n",
    "axs[0].axis('off')\n",
    "axs[1].imshow(calculator_tophat, 'gray')\n",
    "axs[1].set_title('Operacja otwarcia z dużym elementem pionowym')\n",
    "axs[1].axis('off')\n",
    "plt.show()"
   ]
  },
  {
   "cell_type": "code",
   "execution_count": null,
   "metadata": {},
   "outputs": [],
   "source": [
    "# krok 4\n",
    "marker = cv2.erode(calculator_reco_tophat, np.ones((1, 11)))\n",
    "without_vertical_reflection = reconstruction_v2(marker, calculator, np.ones((3, 3)))\n",
    "\n",
    "\n",
    "plt.figure(figsize=(8, 5))\n",
    "plt.imshow(without_vertical_reflection, 'gray')\n",
    "plt.title('Zlikwidowane odblaski pionowe')\n",
    "plt.axis('off')\n",
    "plt.show()"
   ]
  },
  {
   "cell_type": "code",
   "execution_count": null,
   "metadata": {},
   "outputs": [],
   "source": [
    "# krok 5\n",
    "\n",
    "dilate_reflection = cv2.dilate(without_vertical_reflection, np.ones((1, 21)))\n",
    "\n",
    "marker = np.min((dilate_reflection, calculator_reco_tophat), axis=0)\n",
    "\n",
    "final_result = reconstruction_v2(marker, calculator_reco_tophat, np.ones((1, 21)))"
   ]
  },
  {
   "cell_type": "code",
   "execution_count": null,
   "metadata": {},
   "outputs": [],
   "source": [
    "# krok 6\n",
    "\n",
    "plt.figure(figsize=(8, 5))\n",
    "plt.imshow(final_result, 'gray')\n",
    "plt.title('Wynik końcowy')\n",
    "plt.axis('off')\n",
    "plt.show()"
   ]
  },
  {
   "cell_type": "markdown",
   "metadata": {},
   "source": [
    "#### Za pomocą powyższych operacji udało sie osiągnąć zamierzony efekt. Obraz został zbinaryzowany do białych napisów na czarnym tle, prawie beż żadnych artefaktów."
   ]
  },
  {
   "cell_type": "code",
   "execution_count": null,
   "metadata": {},
   "outputs": [],
   "source": [
    "fig = plt.figure()\n",
    "ax = plt.axes(xlim=(0, 4), ylim=(-2, 2))\n",
    "line, = ax.plot([], [], lw=3)\n",
    "\n",
    "def init():\n",
    "    line.set_data([], [])\n",
    "    return line,\n",
    "def animate(i):\n",
    "    x = np.linspace(0, 4, 1000)\n",
    "    y = np.sin(2 * np.pi * (x - 0.01 * i))\n",
    "    line.set_data(x, y)\n",
    "    return line,\n",
    "\n",
    "anim = FuncAnimation(fig, animate, init_func=init,\n",
    "                               frames=200, interval=20, blit=True)\n",
    "\n",
    "\n",
    "anim.save('sine_wave.gif', writer='imagemagick')"
   ]
  }
 ],
 "metadata": {
  "celltoolbar": "Raw Cell Format",
  "kernelspec": {
   "display_name": "Python 3 (ipykernel)",
   "language": "python",
   "name": "python3"
  },
  "language_info": {
   "codemirror_mode": {
    "name": "ipython",
    "version": 3
   },
   "file_extension": ".py",
   "mimetype": "text/x-python",
   "name": "python",
   "nbconvert_exporter": "python",
   "pygments_lexer": "ipython3",
   "version": "3.8.10"
  }
 },
 "nbformat": 4,
 "nbformat_minor": 4
}
