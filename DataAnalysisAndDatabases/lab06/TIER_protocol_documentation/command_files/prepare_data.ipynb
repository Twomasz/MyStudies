{
 "cells": [
  {
   "cell_type": "code",
   "execution_count": 271,
   "metadata": {
    "collapsed": true
   },
   "outputs": [],
   "source": [
    "import numpy as np\n",
    "import pandas as pd\n",
    "import matplotlib.pyplot as plt\n",
    "import seaborn as sns\n",
    "import os"
   ]
  },
  {
   "cell_type": "markdown",
   "source": [
    "# Wgląd do danych"
   ],
   "metadata": {
    "collapsed": false
   }
  },
  {
   "cell_type": "code",
   "execution_count": 272,
   "outputs": [
    {
     "data": {
      "text/plain": "     Unnamed: 0  Dni od zakupu       Marka  Wiek kupującego Płeć kupującego  \\\n0             0              3  Electrolux             41.0               M   \n1             1              7  Electrolux             57.0               M   \n2             2              9  Electrolux              NaN               K   \n3             3              8        Beko              NaN               M   \n4             4             10        Beko             35.0               M   \n..          ...            ...         ...              ...             ...   \n529         529              8     Samsung             39.0               M   \n530         530              9  Electrolux             26.0               K   \n531         531              6        Beko             43.0               M   \n532         532              5        Beko              NaN               M   \n533         533              9  Electrolux             57.0               K   \n\n     Ocena  \n0      3.0  \n1      3.0  \n2      4.5  \n3      1.5  \n4      2.5  \n..     ...  \n529    1.5  \n530    1.5  \n531    2.5  \n532    2.5  \n533    1.5  \n\n[534 rows x 6 columns]",
      "text/html": "<div>\n<style scoped>\n    .dataframe tbody tr th:only-of-type {\n        vertical-align: middle;\n    }\n\n    .dataframe tbody tr th {\n        vertical-align: top;\n    }\n\n    .dataframe thead th {\n        text-align: right;\n    }\n</style>\n<table border=\"1\" class=\"dataframe\">\n  <thead>\n    <tr style=\"text-align: right;\">\n      <th></th>\n      <th>Unnamed: 0</th>\n      <th>Dni od zakupu</th>\n      <th>Marka</th>\n      <th>Wiek kupującego</th>\n      <th>Płeć kupującego</th>\n      <th>Ocena</th>\n    </tr>\n  </thead>\n  <tbody>\n    <tr>\n      <th>0</th>\n      <td>0</td>\n      <td>3</td>\n      <td>Electrolux</td>\n      <td>41.0</td>\n      <td>M</td>\n      <td>3.0</td>\n    </tr>\n    <tr>\n      <th>1</th>\n      <td>1</td>\n      <td>7</td>\n      <td>Electrolux</td>\n      <td>57.0</td>\n      <td>M</td>\n      <td>3.0</td>\n    </tr>\n    <tr>\n      <th>2</th>\n      <td>2</td>\n      <td>9</td>\n      <td>Electrolux</td>\n      <td>NaN</td>\n      <td>K</td>\n      <td>4.5</td>\n    </tr>\n    <tr>\n      <th>3</th>\n      <td>3</td>\n      <td>8</td>\n      <td>Beko</td>\n      <td>NaN</td>\n      <td>M</td>\n      <td>1.5</td>\n    </tr>\n    <tr>\n      <th>4</th>\n      <td>4</td>\n      <td>10</td>\n      <td>Beko</td>\n      <td>35.0</td>\n      <td>M</td>\n      <td>2.5</td>\n    </tr>\n    <tr>\n      <th>...</th>\n      <td>...</td>\n      <td>...</td>\n      <td>...</td>\n      <td>...</td>\n      <td>...</td>\n      <td>...</td>\n    </tr>\n    <tr>\n      <th>529</th>\n      <td>529</td>\n      <td>8</td>\n      <td>Samsung</td>\n      <td>39.0</td>\n      <td>M</td>\n      <td>1.5</td>\n    </tr>\n    <tr>\n      <th>530</th>\n      <td>530</td>\n      <td>9</td>\n      <td>Electrolux</td>\n      <td>26.0</td>\n      <td>K</td>\n      <td>1.5</td>\n    </tr>\n    <tr>\n      <th>531</th>\n      <td>531</td>\n      <td>6</td>\n      <td>Beko</td>\n      <td>43.0</td>\n      <td>M</td>\n      <td>2.5</td>\n    </tr>\n    <tr>\n      <th>532</th>\n      <td>532</td>\n      <td>5</td>\n      <td>Beko</td>\n      <td>NaN</td>\n      <td>M</td>\n      <td>2.5</td>\n    </tr>\n    <tr>\n      <th>533</th>\n      <td>533</td>\n      <td>9</td>\n      <td>Electrolux</td>\n      <td>57.0</td>\n      <td>K</td>\n      <td>1.5</td>\n    </tr>\n  </tbody>\n</table>\n<p>534 rows × 6 columns</p>\n</div>"
     },
     "execution_count": 272,
     "metadata": {},
     "output_type": "execute_result"
    }
   ],
   "source": [
    "df = pd.read_csv('../original_data/14_WIELKOPOLSKIE.csv')\n",
    "df"
   ],
   "metadata": {
    "collapsed": false
   }
  },
  {
   "cell_type": "code",
   "execution_count": 273,
   "outputs": [
    {
     "name": "stdout",
     "output_type": "stream",
     "text": [
      "<class 'pandas.core.frame.DataFrame'>\n",
      "RangeIndex: 534 entries, 0 to 533\n",
      "Data columns (total 6 columns):\n",
      " #   Column           Non-Null Count  Dtype  \n",
      "---  ------           --------------  -----  \n",
      " 0   Unnamed: 0       534 non-null    int64  \n",
      " 1   Dni od zakupu    534 non-null    int64  \n",
      " 2   Marka            534 non-null    object \n",
      " 3   Wiek kupującego  473 non-null    float64\n",
      " 4   Płeć kupującego  534 non-null    object \n",
      " 5   Ocena            534 non-null    float64\n",
      "dtypes: float64(2), int64(2), object(2)\n",
      "memory usage: 25.2+ KB\n"
     ]
    }
   ],
   "source": [
    "df.info()"
   ],
   "metadata": {
    "collapsed": false
   }
  },
  {
   "cell_type": "markdown",
   "source": [
    "### Usunięcie niepotrzebnej kolumny z indeksami (pandas nadaje unikalne indeksy, więc mamy powtórzenie tych samych danych)"
   ],
   "metadata": {
    "collapsed": false
   }
  },
  {
   "cell_type": "code",
   "execution_count": 274,
   "outputs": [
    {
     "data": {
      "text/plain": "     Dni od zakupu       Marka  Wiek kupującego Płeć kupującego  Ocena\n0                3  Electrolux             41.0               M    3.0\n1                7  Electrolux             57.0               M    3.0\n2                9  Electrolux              NaN               K    4.5\n3                8        Beko              NaN               M    1.5\n4               10        Beko             35.0               M    2.5\n..             ...         ...              ...             ...    ...\n529              8     Samsung             39.0               M    1.5\n530              9  Electrolux             26.0               K    1.5\n531              6        Beko             43.0               M    2.5\n532              5        Beko              NaN               M    2.5\n533              9  Electrolux             57.0               K    1.5\n\n[534 rows x 5 columns]",
      "text/html": "<div>\n<style scoped>\n    .dataframe tbody tr th:only-of-type {\n        vertical-align: middle;\n    }\n\n    .dataframe tbody tr th {\n        vertical-align: top;\n    }\n\n    .dataframe thead th {\n        text-align: right;\n    }\n</style>\n<table border=\"1\" class=\"dataframe\">\n  <thead>\n    <tr style=\"text-align: right;\">\n      <th></th>\n      <th>Dni od zakupu</th>\n      <th>Marka</th>\n      <th>Wiek kupującego</th>\n      <th>Płeć kupującego</th>\n      <th>Ocena</th>\n    </tr>\n  </thead>\n  <tbody>\n    <tr>\n      <th>0</th>\n      <td>3</td>\n      <td>Electrolux</td>\n      <td>41.0</td>\n      <td>M</td>\n      <td>3.0</td>\n    </tr>\n    <tr>\n      <th>1</th>\n      <td>7</td>\n      <td>Electrolux</td>\n      <td>57.0</td>\n      <td>M</td>\n      <td>3.0</td>\n    </tr>\n    <tr>\n      <th>2</th>\n      <td>9</td>\n      <td>Electrolux</td>\n      <td>NaN</td>\n      <td>K</td>\n      <td>4.5</td>\n    </tr>\n    <tr>\n      <th>3</th>\n      <td>8</td>\n      <td>Beko</td>\n      <td>NaN</td>\n      <td>M</td>\n      <td>1.5</td>\n    </tr>\n    <tr>\n      <th>4</th>\n      <td>10</td>\n      <td>Beko</td>\n      <td>35.0</td>\n      <td>M</td>\n      <td>2.5</td>\n    </tr>\n    <tr>\n      <th>...</th>\n      <td>...</td>\n      <td>...</td>\n      <td>...</td>\n      <td>...</td>\n      <td>...</td>\n    </tr>\n    <tr>\n      <th>529</th>\n      <td>8</td>\n      <td>Samsung</td>\n      <td>39.0</td>\n      <td>M</td>\n      <td>1.5</td>\n    </tr>\n    <tr>\n      <th>530</th>\n      <td>9</td>\n      <td>Electrolux</td>\n      <td>26.0</td>\n      <td>K</td>\n      <td>1.5</td>\n    </tr>\n    <tr>\n      <th>531</th>\n      <td>6</td>\n      <td>Beko</td>\n      <td>43.0</td>\n      <td>M</td>\n      <td>2.5</td>\n    </tr>\n    <tr>\n      <th>532</th>\n      <td>5</td>\n      <td>Beko</td>\n      <td>NaN</td>\n      <td>M</td>\n      <td>2.5</td>\n    </tr>\n    <tr>\n      <th>533</th>\n      <td>9</td>\n      <td>Electrolux</td>\n      <td>57.0</td>\n      <td>K</td>\n      <td>1.5</td>\n    </tr>\n  </tbody>\n</table>\n<p>534 rows × 5 columns</p>\n</div>"
     },
     "execution_count": 274,
     "metadata": {},
     "output_type": "execute_result"
    }
   ],
   "source": [
    "df.drop(columns='Unnamed: 0', inplace=True)\n",
    "df"
   ],
   "metadata": {
    "collapsed": false
   }
  },
  {
   "cell_type": "markdown",
   "source": [
    "### Zmiana języka na angielski dla uniknięcia w danych występowania polskich znaków oraz spacji"
   ],
   "metadata": {
    "collapsed": false
   }
  },
  {
   "cell_type": "code",
   "execution_count": 275,
   "outputs": [
    {
     "data": {
      "text/plain": "     Days_From_Purchase       Brand  Buyer_Age Buyer_Sex  Rating\n0                     3  Electrolux       41.0         M     3.0\n1                     7  Electrolux       57.0         M     3.0\n2                     9  Electrolux        NaN         K     4.5\n3                     8        Beko        NaN         M     1.5\n4                    10        Beko       35.0         M     2.5\n..                  ...         ...        ...       ...     ...\n529                   8     Samsung       39.0         M     1.5\n530                   9  Electrolux       26.0         K     1.5\n531                   6        Beko       43.0         M     2.5\n532                   5        Beko        NaN         M     2.5\n533                   9  Electrolux       57.0         K     1.5\n\n[534 rows x 5 columns]",
      "text/html": "<div>\n<style scoped>\n    .dataframe tbody tr th:only-of-type {\n        vertical-align: middle;\n    }\n\n    .dataframe tbody tr th {\n        vertical-align: top;\n    }\n\n    .dataframe thead th {\n        text-align: right;\n    }\n</style>\n<table border=\"1\" class=\"dataframe\">\n  <thead>\n    <tr style=\"text-align: right;\">\n      <th></th>\n      <th>Days_From_Purchase</th>\n      <th>Brand</th>\n      <th>Buyer_Age</th>\n      <th>Buyer_Sex</th>\n      <th>Rating</th>\n    </tr>\n  </thead>\n  <tbody>\n    <tr>\n      <th>0</th>\n      <td>3</td>\n      <td>Electrolux</td>\n      <td>41.0</td>\n      <td>M</td>\n      <td>3.0</td>\n    </tr>\n    <tr>\n      <th>1</th>\n      <td>7</td>\n      <td>Electrolux</td>\n      <td>57.0</td>\n      <td>M</td>\n      <td>3.0</td>\n    </tr>\n    <tr>\n      <th>2</th>\n      <td>9</td>\n      <td>Electrolux</td>\n      <td>NaN</td>\n      <td>K</td>\n      <td>4.5</td>\n    </tr>\n    <tr>\n      <th>3</th>\n      <td>8</td>\n      <td>Beko</td>\n      <td>NaN</td>\n      <td>M</td>\n      <td>1.5</td>\n    </tr>\n    <tr>\n      <th>4</th>\n      <td>10</td>\n      <td>Beko</td>\n      <td>35.0</td>\n      <td>M</td>\n      <td>2.5</td>\n    </tr>\n    <tr>\n      <th>...</th>\n      <td>...</td>\n      <td>...</td>\n      <td>...</td>\n      <td>...</td>\n      <td>...</td>\n    </tr>\n    <tr>\n      <th>529</th>\n      <td>8</td>\n      <td>Samsung</td>\n      <td>39.0</td>\n      <td>M</td>\n      <td>1.5</td>\n    </tr>\n    <tr>\n      <th>530</th>\n      <td>9</td>\n      <td>Electrolux</td>\n      <td>26.0</td>\n      <td>K</td>\n      <td>1.5</td>\n    </tr>\n    <tr>\n      <th>531</th>\n      <td>6</td>\n      <td>Beko</td>\n      <td>43.0</td>\n      <td>M</td>\n      <td>2.5</td>\n    </tr>\n    <tr>\n      <th>532</th>\n      <td>5</td>\n      <td>Beko</td>\n      <td>NaN</td>\n      <td>M</td>\n      <td>2.5</td>\n    </tr>\n    <tr>\n      <th>533</th>\n      <td>9</td>\n      <td>Electrolux</td>\n      <td>57.0</td>\n      <td>K</td>\n      <td>1.5</td>\n    </tr>\n  </tbody>\n</table>\n<p>534 rows × 5 columns</p>\n</div>"
     },
     "execution_count": 275,
     "metadata": {},
     "output_type": "execute_result"
    }
   ],
   "source": [
    "column_names = {'Dni od zakupu': 'Days_From_Purchase',\n",
    "                'Marka': 'Brand',\n",
    "                'Wiek kupującego': 'Buyer_Age',\n",
    "                'Płeć kupującego': 'Buyer_Sex',\n",
    "                'Ocena': 'Rating'}\n",
    "\n",
    "df.rename(columns=column_names, inplace=True)\n",
    "df"
   ],
   "metadata": {
    "collapsed": false
   }
  },
  {
   "cell_type": "code",
   "execution_count": 276,
   "outputs": [],
   "source": [
    "file_exists = os.path.exists('../analysis_data/Prepared_Data.csv')\n",
    "if not file_exists:\n",
    "    df.to_csv('../analysis_data/Prepared_Data.csv', index=False)"
   ],
   "metadata": {
    "collapsed": false
   }
  },
  {
   "cell_type": "markdown",
   "source": [
    "### Sprawdzenie ilości niepełnych wierszy w tabeli"
   ],
   "metadata": {
    "collapsed": false
   }
  },
  {
   "cell_type": "code",
   "execution_count": 277,
   "outputs": [
    {
     "data": {
      "text/plain": "Days_From_Purchase     0\nBrand                  0\nBuyer_Age             61\nBuyer_Sex              0\nRating                 0\ndtype: int64"
     },
     "execution_count": 277,
     "metadata": {},
     "output_type": "execute_result"
    }
   ],
   "source": [
    "df.isnull().sum()"
   ],
   "metadata": {
    "collapsed": false
   }
  },
  {
   "cell_type": "code",
   "execution_count": 278,
   "outputs": [
    {
     "name": "stdout",
     "output_type": "stream",
     "text": [
      "W kolumnie wieku kupującego jest 11.42 % niepełnych wierszy\n",
      "W kolumnie płci kupującego jest 2.81 % niepełnych wierszy\n"
     ]
    }
   ],
   "source": [
    "percent_sex = df['Buyer_Sex'].value_counts()['bd.'] / (df.shape[0]) * 100\n",
    "percent_age = df['Buyer_Age'].isna().sum() / (df.shape[0]) * 100\n",
    "\n",
    "print(f'W kolumnie wieku kupującego jest {percent_age:.2f} % niepełnych wierszy')\n",
    "print(f'W kolumnie płci kupującego jest {percent_sex:.2f} % niepełnych wierszy')"
   ],
   "metadata": {
    "collapsed": false
   }
  },
  {
   "cell_type": "markdown",
   "source": [
    "### Do analizy niektórych zależności należy usunąć niepełne wiersze. Liczba niepełnych wierszy w płci kupującego jest tak mała, że nie wpływa na wyniki, natomiast w wieku kupującego brakuje ponad 10% danych, co jest już liczbą wpływającą na wynik"
   ],
   "metadata": {
    "collapsed": false
   }
  },
  {
   "cell_type": "code",
   "execution_count": 279,
   "outputs": [
    {
     "data": {
      "text/plain": "     Days_From_Purchase       Brand  Buyer_Age Buyer_Sex  Rating\n0                     3  Electrolux       41.0         M     3.0\n1                     7  Electrolux       57.0         M     3.0\n4                    10        Beko       35.0         M     2.5\n5                     5        Beko       53.0         M     2.0\n6                     5  Electrolux       27.0         K     4.5\n..                  ...         ...        ...       ...     ...\n528                   2       Dyson       39.0         M     3.0\n529                   8     Samsung       39.0         M     1.5\n530                   9  Electrolux       26.0         K     1.5\n531                   6        Beko       43.0         M     2.5\n533                   9  Electrolux       57.0         K     1.5\n\n[458 rows x 5 columns]",
      "text/html": "<div>\n<style scoped>\n    .dataframe tbody tr th:only-of-type {\n        vertical-align: middle;\n    }\n\n    .dataframe tbody tr th {\n        vertical-align: top;\n    }\n\n    .dataframe thead th {\n        text-align: right;\n    }\n</style>\n<table border=\"1\" class=\"dataframe\">\n  <thead>\n    <tr style=\"text-align: right;\">\n      <th></th>\n      <th>Days_From_Purchase</th>\n      <th>Brand</th>\n      <th>Buyer_Age</th>\n      <th>Buyer_Sex</th>\n      <th>Rating</th>\n    </tr>\n  </thead>\n  <tbody>\n    <tr>\n      <th>0</th>\n      <td>3</td>\n      <td>Electrolux</td>\n      <td>41.0</td>\n      <td>M</td>\n      <td>3.0</td>\n    </tr>\n    <tr>\n      <th>1</th>\n      <td>7</td>\n      <td>Electrolux</td>\n      <td>57.0</td>\n      <td>M</td>\n      <td>3.0</td>\n    </tr>\n    <tr>\n      <th>4</th>\n      <td>10</td>\n      <td>Beko</td>\n      <td>35.0</td>\n      <td>M</td>\n      <td>2.5</td>\n    </tr>\n    <tr>\n      <th>5</th>\n      <td>5</td>\n      <td>Beko</td>\n      <td>53.0</td>\n      <td>M</td>\n      <td>2.0</td>\n    </tr>\n    <tr>\n      <th>6</th>\n      <td>5</td>\n      <td>Electrolux</td>\n      <td>27.0</td>\n      <td>K</td>\n      <td>4.5</td>\n    </tr>\n    <tr>\n      <th>...</th>\n      <td>...</td>\n      <td>...</td>\n      <td>...</td>\n      <td>...</td>\n      <td>...</td>\n    </tr>\n    <tr>\n      <th>528</th>\n      <td>2</td>\n      <td>Dyson</td>\n      <td>39.0</td>\n      <td>M</td>\n      <td>3.0</td>\n    </tr>\n    <tr>\n      <th>529</th>\n      <td>8</td>\n      <td>Samsung</td>\n      <td>39.0</td>\n      <td>M</td>\n      <td>1.5</td>\n    </tr>\n    <tr>\n      <th>530</th>\n      <td>9</td>\n      <td>Electrolux</td>\n      <td>26.0</td>\n      <td>K</td>\n      <td>1.5</td>\n    </tr>\n    <tr>\n      <th>531</th>\n      <td>6</td>\n      <td>Beko</td>\n      <td>43.0</td>\n      <td>M</td>\n      <td>2.5</td>\n    </tr>\n    <tr>\n      <th>533</th>\n      <td>9</td>\n      <td>Electrolux</td>\n      <td>57.0</td>\n      <td>K</td>\n      <td>1.5</td>\n    </tr>\n  </tbody>\n</table>\n<p>458 rows × 5 columns</p>\n</div>"
     },
     "execution_count": 279,
     "metadata": {},
     "output_type": "execute_result"
    }
   ],
   "source": [
    "# czyszczenie braku danych w wieku kupującego\n",
    "clean_df = df.dropna()\n",
    "\n",
    "# czyszczenie braku danych w płci kupującego\n",
    "i = clean_df[clean_df.Buyer_Sex == 'bd.'].index  # wyciągnięcie indeksów\n",
    "clean_df = clean_df.drop(i)\n",
    "\n",
    "clean_df"
   ],
   "metadata": {
    "collapsed": false
   }
  },
  {
   "cell_type": "code",
   "execution_count": 280,
   "outputs": [],
   "source": [
    "file_exists = os.path.exists('../analysis_data/Clean_Data.csv')\n",
    "if not file_exists:\n",
    "    clean_df.to_csv('../analysis_data/Clean_Data.csv', index=False)"
   ],
   "metadata": {
    "collapsed": false
   }
  },
  {
   "cell_type": "markdown",
   "source": [
    "### Zastąpienie wieku kupującego przedziałami wiekowymi"
   ],
   "metadata": {
    "collapsed": false
   }
  },
  {
   "cell_type": "code",
   "execution_count": 281,
   "outputs": [
    {
     "data": {
      "text/plain": "     Days_From_Purchase       Brand Buyer_Age_Group Buyer_Sex  Rating\n0                     3  Electrolux           35-44         M     3.0\n1                     7  Electrolux           55-64         M     3.0\n4                    10        Beko           35-44         M     2.5\n5                     5        Beko           45-54         M     2.0\n6                     5  Electrolux           25-34         K     4.5\n..                  ...         ...             ...       ...     ...\n528                   2       Dyson           35-44         M     3.0\n529                   8     Samsung           35-44         M     1.5\n530                   9  Electrolux           25-34         K     1.5\n531                   6        Beko           35-44         M     2.5\n533                   9  Electrolux           55-64         K     1.5\n\n[458 rows x 5 columns]",
      "text/html": "<div>\n<style scoped>\n    .dataframe tbody tr th:only-of-type {\n        vertical-align: middle;\n    }\n\n    .dataframe tbody tr th {\n        vertical-align: top;\n    }\n\n    .dataframe thead th {\n        text-align: right;\n    }\n</style>\n<table border=\"1\" class=\"dataframe\">\n  <thead>\n    <tr style=\"text-align: right;\">\n      <th></th>\n      <th>Days_From_Purchase</th>\n      <th>Brand</th>\n      <th>Buyer_Age_Group</th>\n      <th>Buyer_Sex</th>\n      <th>Rating</th>\n    </tr>\n  </thead>\n  <tbody>\n    <tr>\n      <th>0</th>\n      <td>3</td>\n      <td>Electrolux</td>\n      <td>35-44</td>\n      <td>M</td>\n      <td>3.0</td>\n    </tr>\n    <tr>\n      <th>1</th>\n      <td>7</td>\n      <td>Electrolux</td>\n      <td>55-64</td>\n      <td>M</td>\n      <td>3.0</td>\n    </tr>\n    <tr>\n      <th>4</th>\n      <td>10</td>\n      <td>Beko</td>\n      <td>35-44</td>\n      <td>M</td>\n      <td>2.5</td>\n    </tr>\n    <tr>\n      <th>5</th>\n      <td>5</td>\n      <td>Beko</td>\n      <td>45-54</td>\n      <td>M</td>\n      <td>2.0</td>\n    </tr>\n    <tr>\n      <th>6</th>\n      <td>5</td>\n      <td>Electrolux</td>\n      <td>25-34</td>\n      <td>K</td>\n      <td>4.5</td>\n    </tr>\n    <tr>\n      <th>...</th>\n      <td>...</td>\n      <td>...</td>\n      <td>...</td>\n      <td>...</td>\n      <td>...</td>\n    </tr>\n    <tr>\n      <th>528</th>\n      <td>2</td>\n      <td>Dyson</td>\n      <td>35-44</td>\n      <td>M</td>\n      <td>3.0</td>\n    </tr>\n    <tr>\n      <th>529</th>\n      <td>8</td>\n      <td>Samsung</td>\n      <td>35-44</td>\n      <td>M</td>\n      <td>1.5</td>\n    </tr>\n    <tr>\n      <th>530</th>\n      <td>9</td>\n      <td>Electrolux</td>\n      <td>25-34</td>\n      <td>K</td>\n      <td>1.5</td>\n    </tr>\n    <tr>\n      <th>531</th>\n      <td>6</td>\n      <td>Beko</td>\n      <td>35-44</td>\n      <td>M</td>\n      <td>2.5</td>\n    </tr>\n    <tr>\n      <th>533</th>\n      <td>9</td>\n      <td>Electrolux</td>\n      <td>55-64</td>\n      <td>K</td>\n      <td>1.5</td>\n    </tr>\n  </tbody>\n</table>\n<p>458 rows × 5 columns</p>\n</div>"
     },
     "execution_count": 281,
     "metadata": {},
     "output_type": "execute_result"
    }
   ],
   "source": [
    "df_range_age = clean_df.copy()\n",
    "\n",
    "bins= [18, 25, 35, 45, 55, 65, 110]\n",
    "labels = ['18-24', '25-34','35-44','45-54','55-64','65+']\n",
    "df_range_age['Buyer_Age_Group'] = pd.cut(df_range_age['Buyer_Age'], bins=bins, labels=labels, right=False)\n",
    "\n",
    "# wyrzucenie wieku\n",
    "df_range_age.drop(columns='Buyer_Age', inplace=True)\n",
    "\n",
    "# zmiana kolejności kolumn\n",
    "df_range_age = df_range_age[['Days_From_Purchase', 'Brand', 'Buyer_Age_Group', 'Buyer_Sex', 'Rating']]\n",
    "\n",
    "df_range_age"
   ],
   "metadata": {
    "collapsed": false
   }
  },
  {
   "cell_type": "code",
   "execution_count": 282,
   "outputs": [],
   "source": [
    "file_exists = os.path.exists('../analysis_data/Data_Group_Age.csv')\n",
    "if not file_exists:\n",
    "    df_range_age.to_csv('../analysis_data/Data_Group_Age.csv', index=False)"
   ],
   "metadata": {
    "collapsed": false
   }
  },
  {
   "cell_type": "markdown",
   "source": [
    "### Zastosowanie przedziałów do kolumny minionych dni od wystawionej opinii oraz opisu wystawionej oceny"
   ],
   "metadata": {
    "collapsed": false
   }
  },
  {
   "cell_type": "code",
   "execution_count": 283,
   "outputs": [
    {
     "data": {
      "text/plain": "     Days_From_Purchase Days_From_Purchase_Range       Brand  Buyer_Age  \\\n418                   0                 do 2 dni       Dyson       45.0   \n239                   1                 do 2 dni       Dyson       43.0   \n59                    2                 do 2 dni     Samsung       33.0   \n88                    2                 do 2 dni        Beko       47.0   \n116                   2                 do 2 dni       Dyson       53.0   \n..                  ...                      ...         ...        ...   \n14                   14             do 2 tygodni       Tefal       41.0   \n185                  14             do 2 tygodni        Beko       47.0   \n199                  15        powyżej 2 tygodni  Electrolux       44.0   \n8                    15        powyżej 2 tygodni  Electrolux       50.0   \n325                  15        powyżej 2 tygodni        Beko       21.0   \n\n    Buyer_Sex  Rating Rating_Group  \n418         M     3.5      Średnia  \n239         M     1.0    Negatywna  \n59          M     1.5    Negatywna  \n88          M     2.0      Średnia  \n116         M     2.0      Średnia  \n..        ...     ...          ...  \n14          M     3.0      Średnia  \n185         M     3.0      Średnia  \n199         K     1.5    Negatywna  \n8           M     3.0      Średnia  \n325         K     3.5      Średnia  \n\n[534 rows x 7 columns]",
      "text/html": "<div>\n<style scoped>\n    .dataframe tbody tr th:only-of-type {\n        vertical-align: middle;\n    }\n\n    .dataframe tbody tr th {\n        vertical-align: top;\n    }\n\n    .dataframe thead th {\n        text-align: right;\n    }\n</style>\n<table border=\"1\" class=\"dataframe\">\n  <thead>\n    <tr style=\"text-align: right;\">\n      <th></th>\n      <th>Days_From_Purchase</th>\n      <th>Days_From_Purchase_Range</th>\n      <th>Brand</th>\n      <th>Buyer_Age</th>\n      <th>Buyer_Sex</th>\n      <th>Rating</th>\n      <th>Rating_Group</th>\n    </tr>\n  </thead>\n  <tbody>\n    <tr>\n      <th>418</th>\n      <td>0</td>\n      <td>do 2 dni</td>\n      <td>Dyson</td>\n      <td>45.0</td>\n      <td>M</td>\n      <td>3.5</td>\n      <td>Średnia</td>\n    </tr>\n    <tr>\n      <th>239</th>\n      <td>1</td>\n      <td>do 2 dni</td>\n      <td>Dyson</td>\n      <td>43.0</td>\n      <td>M</td>\n      <td>1.0</td>\n      <td>Negatywna</td>\n    </tr>\n    <tr>\n      <th>59</th>\n      <td>2</td>\n      <td>do 2 dni</td>\n      <td>Samsung</td>\n      <td>33.0</td>\n      <td>M</td>\n      <td>1.5</td>\n      <td>Negatywna</td>\n    </tr>\n    <tr>\n      <th>88</th>\n      <td>2</td>\n      <td>do 2 dni</td>\n      <td>Beko</td>\n      <td>47.0</td>\n      <td>M</td>\n      <td>2.0</td>\n      <td>Średnia</td>\n    </tr>\n    <tr>\n      <th>116</th>\n      <td>2</td>\n      <td>do 2 dni</td>\n      <td>Dyson</td>\n      <td>53.0</td>\n      <td>M</td>\n      <td>2.0</td>\n      <td>Średnia</td>\n    </tr>\n    <tr>\n      <th>...</th>\n      <td>...</td>\n      <td>...</td>\n      <td>...</td>\n      <td>...</td>\n      <td>...</td>\n      <td>...</td>\n      <td>...</td>\n    </tr>\n    <tr>\n      <th>14</th>\n      <td>14</td>\n      <td>do 2 tygodni</td>\n      <td>Tefal</td>\n      <td>41.0</td>\n      <td>M</td>\n      <td>3.0</td>\n      <td>Średnia</td>\n    </tr>\n    <tr>\n      <th>185</th>\n      <td>14</td>\n      <td>do 2 tygodni</td>\n      <td>Beko</td>\n      <td>47.0</td>\n      <td>M</td>\n      <td>3.0</td>\n      <td>Średnia</td>\n    </tr>\n    <tr>\n      <th>199</th>\n      <td>15</td>\n      <td>powyżej 2 tygodni</td>\n      <td>Electrolux</td>\n      <td>44.0</td>\n      <td>K</td>\n      <td>1.5</td>\n      <td>Negatywna</td>\n    </tr>\n    <tr>\n      <th>8</th>\n      <td>15</td>\n      <td>powyżej 2 tygodni</td>\n      <td>Electrolux</td>\n      <td>50.0</td>\n      <td>M</td>\n      <td>3.0</td>\n      <td>Średnia</td>\n    </tr>\n    <tr>\n      <th>325</th>\n      <td>15</td>\n      <td>powyżej 2 tygodni</td>\n      <td>Beko</td>\n      <td>21.0</td>\n      <td>K</td>\n      <td>3.5</td>\n      <td>Średnia</td>\n    </tr>\n  </tbody>\n</table>\n<p>534 rows × 7 columns</p>\n</div>"
     },
     "execution_count": 283,
     "metadata": {},
     "output_type": "execute_result"
    }
   ],
   "source": [
    "df_range_days = df.copy()\n",
    "\n",
    "# przedziały czasu od wystawionej opinii\n",
    "bins = [0, 3, 5, 8, 15, 100]\n",
    "labels = ['do 2 dni', 'do 4 dni', 'do tygodnia', 'do 2 tygodni', 'powyżej 2 tygodni']\n",
    "df_range_days['Days_From_Purchase_Range'] = pd.cut(df_range_days['Days_From_Purchase'], bins=bins, labels=labels, right=False)\n",
    "\n",
    "# przedziały czasu od wystawionej opinii\n",
    "bins = [0, 2, 4, 6]\n",
    "labels = ['Negatywna', 'Średnia', 'Pozytywna']\n",
    "df_range_days['Rating_Group'] = pd.cut(df_range_days['Rating'], bins=bins, labels=labels, right=False)\n",
    "\n",
    "# zmiana kolejności kolumn\n",
    "df_range_days = df_range_days[['Days_From_Purchase', 'Days_From_Purchase_Range', 'Brand', 'Buyer_Age', 'Buyer_Sex', 'Rating', 'Rating_Group']]\n",
    "\n",
    "# sortowanie danych\n",
    "df_range_days = df_range_days.sort_values(by=['Days_From_Purchase', 'Rating'])\n",
    "\n",
    "df_range_days"
   ],
   "metadata": {
    "collapsed": false
   }
  },
  {
   "cell_type": "code",
   "execution_count": 284,
   "outputs": [],
   "source": [
    "file_exists = os.path.exists('../analysis_data/Data_Group_Days_Delay_Rating.csv')\n",
    "if not file_exists:\n",
    "    df_range_days.to_csv('../analysis_data/Data_Group_Days_Delay_Rating.csv', index=False)"
   ],
   "metadata": {
    "collapsed": false
   }
  },
  {
   "cell_type": "code",
   "execution_count": 284,
   "outputs": [],
   "source": [],
   "metadata": {
    "collapsed": false
   }
  }
 ],
 "metadata": {
  "kernelspec": {
   "display_name": "Python 3",
   "language": "python",
   "name": "python3"
  },
  "language_info": {
   "codemirror_mode": {
    "name": "ipython",
    "version": 2
   },
   "file_extension": ".py",
   "mimetype": "text/x-python",
   "name": "python",
   "nbconvert_exporter": "python",
   "pygments_lexer": "ipython2",
   "version": "2.7.6"
  }
 },
 "nbformat": 4,
 "nbformat_minor": 0
}
