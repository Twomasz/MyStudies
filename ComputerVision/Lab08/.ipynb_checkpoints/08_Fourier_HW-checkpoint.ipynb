{
 "cells": [
  {
   "cell_type": "markdown",
   "metadata": {
    "pycharm": {
     "name": "#%% md\n"
    }
   },
   "source": [
    "## Zadanie domowe: Projektowanie filtru metodą okien\n",
    "\n",
    "Zauważone w zadaniu z filtracją artefakty są efektem zastosowania filtru idealnego (wycięcia odpowiednich częstotliwości).\n",
    "Aby je usunąć, należy filtr idealny w dziedzinie przestrzennej przemnożyć przez dwuwymiarowe okno (stworzone na podstawie jednowymiarowego).\n",
    "\n",
    "1. Zdefiniuj rozmiar filtra (np. 21).\n",
    "\n",
    "2. Stwórz okno np. Hanninga (`np.hanning`) o zadanym rozmiarze.\n",
    "\n",
    "3. Na podstawie tego okna stwórz okno dwuwymiarowe: $F = f^Tf$.\n",
    "Można to zrealizować prostą instrukcją:\n",
    "\n",
    "        hanning2d = np.outer(hanning, hanning)\n",
    "\n",
    "4. Stwórz wzorcowy filtr idealny tak samo jak w poprzednim ćwiczeniu.\n",
    "Jego rozmiar musi być taki sam jak zdefiniowany w punkcie pierwszym.\n",
    "\n",
    "5. Generalna zasada jest taka, że należy obliczyć odwrotną transformatę Fouriera filtru idealnego.\n",
    "Aby zagwarantować jednak dobrą lokalizację i symetryczność tworzonego filtru wykorzystuje się dodatkowe rotacje i przesunięcia.\n",
    "\n",
    "        FilterFRot = np.rot90(np.fft.fftshift(np.rot90(FilterF, 2)), 2)\n",
    "        FilterFRot3 = np.dstack((FilterFRot, np.zeros(FilterFRot.shape)))\n",
    "        FilterFidft = cv2.idft(np.float32(FilterFRot3),\n",
    "                        flags=cv2.DFT_SCALE | cv2.DFT_COMPLEX_OUTPUT)\n",
    "        FilterFI = np.rot90(np.fft.fftshift(FilterFidft[:, :, 0]), 2)\n",
    "\n",
    "6. Aby otrzymać poprawny filtr należy teraz pomnożyć dwuwymiarowe okno ze stworzonym filtrem idealnym w dziedzinie przestrzennej.\n",
    "\n",
    "7. Stworzony filtr powinien zostać znowu przeniesiony do dziedziny częstotliwości.\n",
    "Należy jednak rozszerzyć go tak, aby miał taki sam rozmiar jak filtrowany obraz.\n",
    "Operację tę wykonaj tak samo jak w poprzednim ćwiczeniu (`cv2.copyMakeBorder`).\n",
    "Oblicz transformatę Fouriera i wykonaj przesunięcie.\n",
    "Następnie oblicz wartość bezwzględną (dzięki temu filtr nie będzie wpływał na fazę).\n",
    "Wynikiem jest poprawiony filtr w dziedzinie częstotliwości.\n",
    "\n",
    "8. Przeprowadź filtrację obrazu *lena.bmp* za pomocą zaprojektowanego filtra.\n",
    "Wyświetl filtr, oraz wynik filtracji.\n",
    "Do wyświetlenia filtru możesz użyć przestrzeń częstotliwości wygenerowaną w poprzednim zadaniu (*FSpaceRowsM* i *FSpaceColsM*)."
   ]
  },
  {
   "cell_type": "code",
   "execution_count": null,
   "metadata": {
    "pycharm": {
     "name": "#%% Zadanie 4 - okna\n"
    }
   },
   "outputs": [],
   "source": [
    "import cv2\n",
    "from matplotlib import pyplot as plt\n",
    "import numpy as np\n",
    "import math\n",
    "import os\n",
    "\n",
    "# Load required files\n",
    "if not os.path.exists(\"lena.bmp\") :\n",
    "    !wget https://raw.githubusercontent.com/vision-agh/poc_sw/master/08_Fourier/lena.bmp --no-check-certificate\n",
    "        \n",
    "lena = cv2.imread('lena.bmp', cv2.IMREAD_GRAYSCALE)"
   ]
  },
  {
   "cell_type": "code",
   "execution_count": null,
   "metadata": {},
   "outputs": [],
   "source": [
    "def twoD_fourier(img):\n",
    "    img = np.float32(img)\n",
    "    \n",
    "    dtf = cv2.dft(img, flags=cv2.DFT_COMPLEX_OUTPUT)\n",
    "    dft_shift = np.fft.fftshift(dtf, [0, 1])\n",
    "    \n",
    "    magnitude, phase = cv2.cartToPolar(dft_shift[:,:,0], dft_shift[:,:,1])\n",
    "\n",
    "    return dft_shift\n",
    "\n",
    "def inverse(img):\n",
    "    img_shifted = np.fft.ifftshift(img, [0,1])\n",
    "    ifft = cv2.idft(img_shifted, flags=cv2.DFT_SCALE | cv2.DFT_COMPLEX_OUTPUT)\n",
    "    img_ifft = cv2.magnitude(ifft[:, :, 0], ifft[:, :, 1])\n",
    "    img_inv = np.round(img_ifft).astype('uint8')\n",
    "    return img_inv\n",
    "\n",
    "def show_diff(img1, img2):\n",
    "    plt.figure(figsize=(12, 12))\n",
    "    plt.subplot(131)\n",
    "    plt.imshow(img1, 'gray')\n",
    "    plt.title('Image 1')\n",
    "    plt.axis('off')\n",
    "    plt.subplot(132)\n",
    "    plt.imshow(img2, 'gray')\n",
    "    plt.title('Image 2')\n",
    "    plt.axis('off')\n",
    "    plt.subplot(133)\n",
    "    plt.imshow(np.abs(img1 - img2), 'gray')\n",
    "    plt.title('Difference')\n",
    "    plt.axis('off')\n",
    "    plt.show()"
   ]
  },
  {
   "cell_type": "code",
   "execution_count": null,
   "metadata": {},
   "outputs": [],
   "source": [
    "# kroki 1-3\n",
    "filter_size = 21\n",
    "\n",
    "hanning_window = np.hamming(filter_size)\n",
    "\n",
    "hanning_2d = np.outer(hanning_window, hanning_window)"
   ]
  },
  {
   "cell_type": "code",
   "execution_count": null,
   "metadata": {},
   "outputs": [],
   "source": [
    "# krok 4\n",
    "FSpaceRows = 2 * np.fft.fftshift(np.fft.fftfreq(filter_size))\n",
    "FSpaceRowsM = np.outer(FSpaceRows, np.ones([1, filter_size]))\n",
    "FSpaceCols = 2 * np.fft.fftshift(np.fft.fftfreq(filter_size))\n",
    "FSpaceColsM = np.outer(np.ones([1, filter_size]), FSpaceCols)   \n",
    "\n",
    "FreqR = np.sqrt(np.square(FSpaceRowsM) + np.square(FSpaceColsM))\n",
    "\n",
    "FilterF = FreqR <= 0.2"
   ]
  },
  {
   "cell_type": "code",
   "execution_count": null,
   "metadata": {},
   "outputs": [],
   "source": [
    "# krok 5\n",
    "FilterFRot = np.rot90(np.fft.fftshift(np.rot90(FilterF, 2)), 2)\n",
    "FilterFRot3 = np.dstack((FilterFRot, np.zeros(FilterFRot.shape)))\n",
    "FilterFidft = cv2.idft(np.float32(FilterFRot3), flags=cv2.DFT_SCALE | cv2.DFT_COMPLEX_OUTPUT)\n",
    "FilterFI = np.rot90(np.fft.fftshift(FilterFidft[:, :, 0]), 2)"
   ]
  },
  {
   "cell_type": "code",
   "execution_count": null,
   "metadata": {},
   "outputs": [],
   "source": [
    "# krok 6\n",
    "ProperlyFilter = hanning_2d * FilterFI"
   ]
  },
  {
   "cell_type": "code",
   "execution_count": null,
   "metadata": {},
   "outputs": [],
   "source": [
    "# krok 7\n",
    "border = cv2.copyMakeBorder(ProperlyFilter, 0, 491, 0, 491, cv2.BORDER_CONSTANT, value=0)\n",
    "\n",
    "border_fft = twoD_fourier(border)\n",
    "magnitude = cv2.magnitude(border_fft[:,:,0], border_fft[:,:,1])\n",
    "\n",
    "magnitudeF3 = np.repeat(magnitude[:, :, np.newaxis], 2, axis=2)\n",
    "\n",
    "abs_border_fft = np.abs(border_fft)"
   ]
  },
  {
   "cell_type": "code",
   "execution_count": null,
   "metadata": {
    "scrolled": false
   },
   "outputs": [],
   "source": [
    "# krok 8\n",
    "lena_fft = twoD_fourier(lena)\n",
    "\n",
    "l_size = lena.shape[0]  # obraz LENA jest kwadratowy\n",
    "FSpaceRows_l = 2*np.fft.fftshift(np.fft.fftfreq(l_size))\n",
    "FSpaceRowsM_l = np.outer(FSpaceRows_l, np.ones([1, l_size]))\n",
    "FSpaceCols_l = 2*np.fft.fftshift(np.fft.fftfreq(l_size))\n",
    "FSpaceColsM_l = np.outer(np.ones([1, l_size]), FSpaceCols_l)  \n",
    "\n",
    "figFilter = plt.figure()\n",
    "axsFilter = figFilter.add_subplot(projection='3d')\n",
    "axsFilter.plot_surface(FSpaceRowsM_l, FSpaceColsM_l, abs_border_fft[:,:,0], \n",
    "                       rstride=1, cstride=1, cmap=plt.get_cmap('gray'), linewidth=0)\n",
    "\n",
    "axsFilter.set_title(\"Wizualizacja filtra\")\n",
    "plt.show()"
   ]
  },
  {
   "cell_type": "code",
   "execution_count": null,
   "metadata": {},
   "outputs": [],
   "source": [
    "# wyświetlenie wyników działania filtra dla obrazu LENA\n",
    "filter_hanning = magnitudeF3 * lena_fft\n",
    "lena_hanning = inverse(filter_hanning)\n",
    "\n",
    "show_diff(lena, lena_hanning)"
   ]
  },
  {
   "cell_type": "code",
   "execution_count": null,
   "metadata": {},
   "outputs": [],
   "source": [
    "# wyświetlenie wyników działania  ZWYKŁEGO filtra  bez mnożenia przez okno Hanninga\n",
    "FreqR = np.sqrt(np.square(FSpaceRowsM_l) + np.square(FSpaceColsM_l))\n",
    "FilterF = FreqR <= 0.2\n",
    "\n",
    "filter_without_hanning = np.repeat(FilterF[:, :, np.newaxis], 2, axis=2)\n",
    "filter_lena = filter_without_hanning * lena_fft\n",
    "lena_no_hanning = inverse(filter_lena)\n",
    "\n",
    "show_diff(lena, lena_no_hanning)"
   ]
  },
  {
   "cell_type": "markdown",
   "metadata": {},
   "source": [
    "### Porównując wyniki działania powyższych dwóch flitrów (dla tej samej częstotliwości) widać znaczną różnicę, na korzyść tego wykorzystującego metodę okien. Nie występują artefakty, tylko lekkie rozmycie obrazu."
   ]
  },
  {
   "cell_type": "code",
   "execution_count": null,
   "metadata": {},
   "outputs": [],
   "source": []
  }
 ],
 "metadata": {
  "kernelspec": {
   "display_name": "Python 3 (ipykernel)",
   "language": "python",
   "name": "python3"
  },
  "language_info": {
   "codemirror_mode": {
    "name": "ipython",
    "version": 3
   },
   "file_extension": ".py",
   "mimetype": "text/x-python",
   "name": "python",
   "nbconvert_exporter": "python",
   "pygments_lexer": "ipython3",
   "version": "3.8.10"
  }
 },
 "nbformat": 4,
 "nbformat_minor": 4
}
