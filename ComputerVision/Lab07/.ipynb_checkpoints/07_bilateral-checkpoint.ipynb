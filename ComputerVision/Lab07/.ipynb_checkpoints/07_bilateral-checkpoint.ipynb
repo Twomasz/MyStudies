{
 "cells": [
  {
   "cell_type": "markdown",
   "metadata": {
    "pycharm": {
     "name": "#%% md\n"
    }
   },
   "source": [
    "# Filtracja bilateralna"
   ]
  },
  {
   "cell_type": "markdown",
   "metadata": {
    "pycharm": {
     "name": "#%% md\n"
    }
   },
   "source": [
    "## Konwolucja obrazu z filtrem o zadanych współczynnikach\n",
    "\n",
    "Splot (konwolucję) obrazu wejściowego $I$ z filtrem $\\psi$ dla ustalonego punktu obrazu $\\mathbf{x}$ można przedstawić następująco:\n",
    "\n",
    "\\begin{equation}\n",
    "\\hat{I}(\\mathbf{x}) = \\frac{1}{W_N}\\sum_{\\mathbf{p} \\in \\eta(\\mathbf{x})} \\psi(||\\mathbf{p}-\\mathbf{x}||)I(\\mathbf{p})\n",
    "\\tag{1}\n",
    "\\end{equation}\n",
    "\n",
    "gdzie:\n",
    "- $\\hat{I}$ jest obrazem wynikowym (przefiltrowanym),\n",
    "- $W_N = \\sum_y \\psi(y)$ jest parametrem normalizującym współczynniki filtra $\\psi$,\n",
    "- $||\\cdot||$ jest odległością między punktami obrazu $\\mathbf{x}$ i $\\mathbf{p}$ według ustalonej metryki (np. norma $L_2$). Uwaga, proszę pamiętać, że zarówno $\\mathbf{x}$, jak i $\\mathbf{p}$ to współrzędne przestrzenne,\n",
    "- $\\eta(\\mathbf{x})$ jest otoczeniem punktu $\\mathbf{x}$.\n",
    "\n",
    "Funkcja $\\psi$ decyduje o charakterze filtracji. Dla filtru Gaussowskiego:\n",
    "\n",
    "\\begin{equation}\n",
    "\\psi(y) = G_{\\delta_s}(y)\n",
    "\\tag{2}\n",
    "\\end{equation}\n",
    "\n",
    "gdzie: $G_{\\delta_s}(y)$ jest funkcją Gaussa z parametrem skali $\\delta_s$.\n",
    "\n",
    "Opisaną powyżej filtrację realizowaliśmy w ramach ćwiczenia \"Przetwarzanie wstępne. Filtracja kontekstowa.\""
   ]
  },
  {
   "cell_type": "markdown",
   "metadata": {
    "pycharm": {
     "name": "#%% md\n"
    }
   },
   "source": [
    "## Filtracja bilateralna\n",
    "\n",
    "Wadą klasycznego splotu jest brak adaptacji współczynników filtra do lokalnego otoczenia $\\eta(\\mathbf{x})$ filtrowanego punktu $\\mathbf{x}$.\n",
    "Oznacza to wykorzystanie tych samych współczynników filtra $\\psi$ niezależnie od tego czy otoczenie jest względnie jednorodne lub zawiera krawędzie obiektów (w tym przypadku dochodzi do \"rozmywania\" krawędzi).\n",
    "Filtracja bilateralna uwzględnia lokalne otoczenie filtrowanego punktu, w ten sposób, że parametry filtra zmieniają się w zależności od \"wyglądu\" otoczenia.\n",
    "\n",
    "\n",
    "Współczynniki filtra obliczane są na podstawie odległości filtrowanego punktu $\\mathbf{x}$ od każdego punktu otoczenia $\\mathbf{p}$ w dziedzinie przestrzennej obrazu (tak jak przy typowym filtrze np. Gaussa) oraz odległości punktów w przeciwdziedzinie obrazu (np. na podstawie różnicy w jasności pikseli dla obrazu w odcieniach szarości):\n",
    "\n",
    "\\begin{equation}\n",
    "\\hat{I}(\\mathbf{x}) = \\frac{1}{W_N}\\sum_{\\mathbf{p} \\in \\eta(\\mathbf{x})} \\psi(||\\mathbf{p}-\\mathbf{x}||) \\gamma(|I(\\mathbf{p}) - I(\\mathbf{x})|) I(\\mathbf{p})\n",
    "\\tag{3}\n",
    "\\end{equation}\n",
    "gdzie:\n",
    "- $W_N$ jest współczynnikiem normalizującym filtr,\n",
    "- $\\gamma$ jest funkcją odległości w przeciwdziedzinie obrazu, np. $\\gamma(y)=\\exp(-\\frac{y^2}{2\\delta_r^2})$\n",
    "- parametr $\\delta_r$ jest utożsamiany z poziomem szumu w obrazie i należy go dobrać w sposób empiryczny.\n",
    "\n",
    "Proszę chwilę zastanowić się nad powyższym równaniem, w szczególności nad funkcją $\\gamma$. Proszę wyznaczyć, jaka będzie wartość funkcji dla pikseli podobnych (różnica 0, 1, 2), a skrajnie różnych (255, 200).\n",
    "\n",
    "##  Realizacja ćwiczenia\n",
    "\n",
    "### Wczytanie danych\n",
    "\n",
    "1. Wczytaj dane z pliku *MR_data.mat*. W tym celu wykorzystaj funkcję `loadmat` z pakietu scipy:\n",
    "        from scipy.io import loadmat\n",
    "        mat = loadmat('MR_data.mat')\n",
    "\n",
    "2. Wczytany plik zawiera 5 obrazów: *I_noisefree*, *I_noisy1*, *I_noisy2*, *I_noisy3* oraz *I_noisy4*. Odczytać je można w następujący sposób:\n",
    "        Input = mat['I_noisy1']\n",
    "\n",
    "3. Wyświetl wybrany obraz z pliku *MR_data.mat*. Zagadka - co to za obrazowanie medyczne?"
   ]
  },
  {
   "cell_type": "code",
   "execution_count": null,
   "metadata": {
    "pycharm": {
     "name": "#%% Zadanie 1 - wyświetlanie\n"
    }
   },
   "outputs": [],
   "source": [
    "from matplotlib import pyplot as plt\n",
    "import numpy as np\n",
    "from scipy.io import loadmat\n",
    "import math\n",
    "import os\n",
    "\n",
    "if not os.path.exists(\"MR_data.mat\") :\n",
    "    !wget https://raw.githubusercontent.com/vision-agh/poc_sw/master/07_Bilateral/MR_data.mat --no-check-certificate\n",
    "\n",
    "#TODO Samodzielna\n",
    "\n",
    "mat = loadmat('MR_data.mat')\n",
    "\n",
    "Input_0 = mat['I_noisy1']\n",
    "Input_1 = mat['I_noisy2']\n",
    "Input_2 = mat['I_noisy3']\n",
    "Input_3 = mat['I_noisy4']\n",
    "Input_4 = mat['I_noisefree']\n",
    "\n",
    "fig, ax = plt.subplots(1, 5)\n",
    "fig.set_size_inches((18, 10))\n",
    "ax[0].imshow(Input_0, 'gray')\n",
    "ax[0].set_title('I_noisy1')\n",
    "ax[0].axis('off')\n",
    "ax[1].imshow(Input_1, 'gray')\n",
    "ax[1].set_title('I_noisy2')\n",
    "ax[1].axis('off')\n",
    "ax[2].imshow(Input_2, 'gray')\n",
    "ax[2].set_title('I_noisy3')\n",
    "ax[2].axis('off')\n",
    "ax[3].imshow(Input_3, 'gray')\n",
    "ax[3].set_title('I_noisy4')\n",
    "ax[3].axis('off')\n",
    "ax[4].imshow(Input_4, 'gray')\n",
    "ax[4].set_title('I_noisyfree')\n",
    "ax[4].axis('off')\n",
    "plt.show()"
   ]
  },
  {
   "cell_type": "markdown",
   "metadata": {
    "pycharm": {
     "name": "#%% md\n"
    }
   },
   "source": [
    "### \"Klasyczna\" konwolucja\n",
    "\n",
    "1. Zdefiniuj parametry filtra Gaussowskiego: rozmiar okna i wariancję $\\delta_S$.\n",
    "2. Oblicz współczynniki filtra na podstawie zdefiniowanych parametrów (najprościej w ramach podwójnej pętli for).\n",
    "2. Sprawdź ich poprawność i zwizualizuj filtr (tak jak w ćwiczeniu pt. \"Przetwarzanie wstępne. Filtracja kontekstowa.\").\n",
    "3. Wykonaj kopię obrazu wejściowego: `IConv = Input.copy()`\n",
    "4. Wykonaj podwójną pętlę po obrazie. Pomiń ramkę, dla której nie jest zdefiniowany kontekst o wybranej wielkości.\n",
    "5. W każdej iteracji stwórz dwuwymiarową tablicę zawierającą aktualny kontekst.\n",
    "6. Napisz funkcję, która będzie obliczała nową wartość piksela.\n",
    "Argumentem tej funkcji są aktualnie przetwarzane okno i współczynniki filtra.\n",
    "7. Obliczoną wartość przypisz do odpowiedniego piksela kopii obrazu wejściowego.\n",
    "8. Wyświetl wynik filtracji.\n",
    "9. Porównaj wynik z obrazem oryginalnym."
   ]
  },
  {
   "cell_type": "code",
   "execution_count": null,
   "metadata": {
    "pycharm": {
     "name": "#%% Zadanie 2 - konwolucja\n"
    }
   },
   "outputs": [],
   "source": [
    "def fgaussian(size, sigma):\n",
    "    # funkcja fgaussian obliczona raz jest aktualna dla wszystkich otoczeń pikseli w obrazku (poza ramkami)\n",
    "    # przy zdefimiowanej w tej funkcji normie, dodatkowo normalizując współczynniki filtra\n",
    "    m = n = size\n",
    "    h, k = m // 2, n // 2\n",
    "    x, y = np.mgrid[-h:h + 1, -k:k + 1]\n",
    "    \n",
    "    l_2 = (x ** 2 + y ** 2)**(1/2)  # norma l_2\n",
    "    g = np.exp(-(l_2 / (2 * sigma ** 2)))\n",
    "    \n",
    "    return g / g.sum()\n",
    "\n",
    "               \n",
    "def convolution(img, window_size, delta_s):\n",
    "    IConv = img.copy()\n",
    "    X, Y = IConv.shape\n",
    "    half_size = window_size // 2\n",
    "\n",
    "    filtr = fgaussian(window_size, delta_s)\n",
    "\n",
    "    for i in range(0 + half_size, X - half_size):\n",
    "        for j in range(0 + half_size, Y - half_size):\n",
    "            p = img[i - half_size:i + half_size + 1, j - half_size:j + half_size + 1]\n",
    "\n",
    "            # element funkcji obliczającej nową wartość piksela\n",
    "            # (nie definiowałem osobnej funkcji gdyż są to 2 linijki kodu)\n",
    "            cos = np.array(filtr * p)\n",
    "            I_x = cos.sum()\n",
    "    \n",
    "            IConv[i][j] = int(I_x)\n",
    "\n",
    "    return IConv"
   ]
  },
  {
   "cell_type": "code",
   "execution_count": null,
   "metadata": {
    "scrolled": false
   },
   "outputs": [],
   "source": [
    "def show_conv(img, window_size, sigma):\n",
    "    img_conv = convolution(img, window_size, sigma)\n",
    "\n",
    "    fig, ax = plt.subplots(1, 2)\n",
    "    fig.set_size_inches((14, 10))\n",
    "    ax[0].imshow(img, 'gray')\n",
    "    ax[0].set_title('Obraz oryginalny')\n",
    "    ax[0].axis('off')\n",
    "    ax[1].imshow(img_conv, 'gray')\n",
    "    ax[1].set_title(f'Konwolucja z parametrem sigma = {sigma} i rozmiarem okna {window_size}x{window_size}')\n",
    "    ax[1].axis('off')\n",
    "    plt.show()\n",
    "    \n",
    "show_conv(Input_0, 5, 2)\n",
    "show_conv(Input_0, 5, 0.5)\n",
    "show_conv(Input_1, 11, 0.7)\n",
    "show_conv(Input_2, 3, 0.2)\n",
    "show_conv(Input_4, 21, 0.3)"
   ]
  },
  {
   "cell_type": "markdown",
   "metadata": {
    "pycharm": {
     "name": "#%% md\n"
    }
   },
   "source": [
    "### Filtracja bilateralna\n",
    "\n",
    "1. Zdefiniuj dodatkowy parametr: wariancję $\\delta_R$.\n",
    "3. Wykonaj kopię obrazu wejściowego: `IBilateral = Input.copy()`\n",
    "4. Wykonaj podwójną pętlę po obrazie. Pomiń ramkę, dla której nie jest zdefiniowany kontekst o wybranej wielkości.\n",
    "5. W każdej iteracji stwórz dwuwymiarową tablicę zawierającą aktualny kontekst.\n",
    "6. Napisz funkcję, która będzie obliczała nową wartość piksela.\n",
    "Argumentami funkcji są aktualnie przetwarzane okno, współczynniki filtra gaussowskiego (takie same jak wcześniej) i wariancja $\\delta_R$.\n",
    "7. Oblicz odległość w przeciwdziedzinie (dla wartości pikseli).\n",
    "8. Oblicz funkcję Gaussa dla obliczonych odległości z zadanym parametrem.\n",
    "9. Wykonaj normalizację obliczonych współczynników.\n",
    "10. Obliczoną wartość przypisz do odpowiedniego piksela kopii obrazu wejściowego.\n",
    "11. Wyświetl wynik filtracji.\n",
    "12. Porównaj wynik z obrazem oryginalnym."
   ]
  },
  {
   "cell_type": "markdown",
   "metadata": {
    "pycharm": {
     "name": "#%%\n"
    }
   },
   "source": [
    "### Wyznaczenie wartości funkcji $\\gamma(y)=\\exp(-\\frac{y^2}{2\\delta_r^2})$ dla podanych wartości $y$  oraz $\\delta_r$, gdzie $y$ to różnica wartości w pikselach:"
   ]
  },
  {
   "cell_type": "code",
   "execution_count": null,
   "metadata": {},
   "outputs": [],
   "source": [
    "gamma = lambda y, delta_r: np.exp(-y**2/(2*delta_r**2))\n",
    "\n",
    "print(\"Dla y = 255- 200 oraz delta_r = 1 wartość funkcji wynosi: \", gamma(55, 1))\n",
    "print(\"Dla y = 2 - 1 oraz delta_r = 1 wartość funkcji wynosi: \", gamma(1, 1))\n",
    "print()\n",
    "print(\"Dla y = 255- 200 oraz delta_r = 5 wartość funkcji wynosi: \", gamma(55, 5))\n",
    "print(\"Dla y = 2 - 1 oraz delta_r = 5 wartość funkcji wynosi: \", gamma(1, 5))\n",
    "print()\n",
    "print(\"Dla y = 255- 200 oraz delta_r = 50 wartość funkcji wynosi: \", gamma(55, 50))\n",
    "print(\"Dla y = 2 - 1 oraz delta_r = 50 wartość funkcji wynosi: \", gamma(1, 50))"
   ]
  },
  {
   "cell_type": "markdown",
   "metadata": {},
   "source": [
    "### Jak widać jest bardzo duża rozbieżność w wynikach funkcji dla pikseli podobnych a skrajnie różnych, co jest przydatną własnością w filtrowaniu szumu"
   ]
  },
  {
   "cell_type": "code",
   "execution_count": null,
   "metadata": {},
   "outputs": [],
   "source": [
    "gamma = lambda y, delta_r: np.exp(-y**2/(2*delta_r**2))\n",
    "\n",
    "def fgaussian(size, sigma):\n",
    "    # funkcja fgaussian obliczona raz jest aktualna dla wszystkich otoczeń pikseli w obrazku (poza ramkami)\n",
    "    # przy zdefimiowanej w tej funkcji normie, dodatkowo normalizując współczynniki filtra\n",
    "    m = n = size\n",
    "    h, k = m // 2, n // 2\n",
    "    x, y = np.mgrid[-h:h + 1, -k:k + 1]\n",
    "    \n",
    "    l_2 = (x ** 2 + y ** 2)**(1/2)  # norma l_2\n",
    "    g = np.exp(-(l_2 / (2 * sigma ** 2)))\n",
    "    \n",
    "    return g / g.sum()\n",
    "\n",
    "               \n",
    "def bilateral(img, window_size, delta_s, delta_r):\n",
    "    IBilateral = img.copy()\n",
    "    X, Y = IBilateral.shape\n",
    "    half_size = window_size // 2\n",
    "\n",
    "    filtr = fgaussian(window_size, delta_s)\n",
    "\n",
    "    for i in range(0 + half_size, X - half_size):\n",
    "        for j in range(0 + half_size, Y - half_size):\n",
    "            p = img[i - half_size:i + half_size + 1, j - half_size:j + half_size + 1]\n",
    "\n",
    "            # element funkcji obliczającej nową wartość piksela\n",
    "            # (nie definiowałem osobnej funkcji gdyż jest to prosty kod)\n",
    "            I_x = 0\n",
    "            for m in range(len(p)):\n",
    "                for n in range(len(p[m])):\n",
    "                    y = np.abs(p[m][n] - img[i][j]) \n",
    "                    I_x += filtr[m][n] * gamma(y, delta_r) * p[m][n]\n",
    "            \n",
    "            IBilateral[i][j] = int(I_x)\n",
    "\n",
    "    return IBilateral"
   ]
  },
  {
   "cell_type": "code",
   "execution_count": null,
   "metadata": {},
   "outputs": [],
   "source": [
    "def show_bilateral(img, window_size, sigma, delta_r):\n",
    "    img_bila = bilateral(img, window_size, sigma, delta_r)\n",
    "\n",
    "    fig, ax = plt.subplots(1, 2)\n",
    "    fig.set_size_inches((14, 10))\n",
    "    ax[0].imshow(img, 'gray')\n",
    "    ax[0].set_title('Obraz oryginalny')\n",
    "    ax[0].axis('off')\n",
    "    ax[1].imshow(img_bila, 'gray')\n",
    "    ax[1].set_title(f'Filtracja bilateralna z parametrem sigma = {sigma}, delta_r = {delta_r} i rozmiarem okna {window_size}x{window_size}')\n",
    "    ax[1].axis('off')\n",
    "    plt.show()\n",
    "\n",
    "show_bilateral(Input_0, 3, 0.5, 0.4)\n",
    "show_bilateral(Input_0, 5, 0.5, 50)\n",
    "show_bilateral(Input_0, 9, 0.7, 50)\n",
    "show_bilateral(Input_3, 5, 0.7, 100)"
   ]
  },
  {
   "cell_type": "markdown",
   "metadata": {},
   "source": [
    "### Jak widać, żeby osiągnąć najlepszy efekt działania filtracji należy trochę poeksperymentować z parametrami. Osobiście szukałbym $\\delta_s$ z zakresu $(0.2, 1)$, rozmiaru okna z zakresu $(3x3, 11x11)$ oraz $\\delta_r$ z zakresu $(10, 100)$"
   ]
  }
 ],
 "metadata": {
  "kernelspec": {
   "display_name": "Python 3 (ipykernel)",
   "language": "python",
   "name": "python3"
  },
  "language_info": {
   "codemirror_mode": {
    "name": "ipython",
    "version": 3
   },
   "file_extension": ".py",
   "mimetype": "text/x-python",
   "name": "python",
   "nbconvert_exporter": "python",
   "pygments_lexer": "ipython3",
   "version": "3.8.10"
  }
 },
 "nbformat": 4,
 "nbformat_minor": 4
}
