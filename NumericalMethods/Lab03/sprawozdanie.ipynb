{
 "cells": [
  {
   "cell_type": "markdown",
   "metadata": {},
   "source": [
    "# <center>Laboratorium 3<br>Metody Numeryczne</center>"
   ]
  },
  {
   "cell_type": "markdown",
   "metadata": {},
   "source": [
    "Instrukcja:  \n",
    "Na zajęciach należy wykonać poniższe zadania, dokonać testu na platformie github, a następnie sporządzić sprawozdanie zawierające odpowiedzi z komentarzami."
   ]
  },
  {
   "cell_type": "markdown",
   "metadata": {},
   "source": [
    "Biblioteki niezbędne do wykonania zadania:\n",
    "\n",
    "(instalacja: \"pip install numpy scipy matplotlib memory_profiler\")"
   ]
  },
  {
   "cell_type": "code",
   "execution_count": 1,
   "metadata": {},
   "outputs": [],
   "source": [
    "import main\n",
    "\n",
    "import numpy as np\n",
    "import scipy\n",
    "import matplotlib\n",
    "import matplotlib.pyplot as plt\n",
    "\n",
    "%load_ext memory_profiler"
   ]
  },
  {
   "cell_type": "markdown",
   "metadata": {},
   "source": [
    "***Materiały przygotowujące:***\n",
    "- Standard IEEE 754 [PL](https://pl.wikipedia.org/wiki/IEEE_754) [EN](https://en.wikipedia.org/wiki/IEEE_754)\n",
    "- Liczba zmiennoprzecinkowa [PL](https://pl.wikipedia.org/wiki/Liczba_zmiennoprzecinkowa) [EN](https://en.wikipedia.org/wiki/Floating-point_arithmetic)\n",
    "- Arytmetyka zmiennoprzecinkowa [Python](https://docs.python.org/3.7/tutorial/floatingpoint.html)"
   ]
  },
  {
   "cell_type": "markdown",
   "metadata": {},
   "source": [
    "***Profilowanie kodu:***\n",
    "- [timeit](https://docs.python.org/2/library/timeit.html) - profilowanie czasu wykonywania kodu \n",
    "- [memit](https://pypi.org/project/memory-profiler/) - profilowanie pamięci zużywanej przez kod\n",
    "\n",
    "Zarówno timeit jak i memit wspierają magic command w Jupyter notebook, co obrazuje poniższy przykład:"
   ]
  },
  {
   "cell_type": "code",
   "execution_count": 2,
   "metadata": {},
   "outputs": [
    {
     "name": "stdout",
     "output_type": "stream",
     "text": [
      "SIZE:  100\n",
      "Timing: \n",
      "232 µs ± 64.4 µs per loop (mean ± std. dev. of 5 runs, 10 loops each)\n",
      "Memory usage: \n",
      "peak memory: 92.90 MiB, increment: 0.21 MiB\n",
      "\n",
      "\n",
      "SIZE:  1000\n",
      "Timing: \n",
      "33.4 ms ± 7.04 ms per loop (mean ± std. dev. of 5 runs, 10 loops each)\n",
      "Memory usage: \n",
      "peak memory: 113.87 MiB, increment: 20.96 MiB\n",
      "\n",
      "\n",
      "SIZE:  10000\n",
      "Timing: \n",
      "2.46 s ± 236 ms per loop (mean ± std. dev. of 5 runs, 10 loops each)\n",
      "Memory usage: \n",
      "peak memory: 2368.45 MiB, increment: 2275.95 MiB\n",
      "\n",
      "\n"
     ]
    }
   ],
   "source": [
    "def func(size):\n",
    "    a = np.random.random((size,size))\n",
    "    b = np.random.random((size,size))\n",
    "    c = a + b\n",
    "    return c\n",
    "\n",
    "for size in [100, 1000, 10000]:\n",
    "    print('SIZE: ', size)\n",
    "    print('Timing: ')\n",
    "    saved_timing = %timeit -r 5 -n 10 -o func(size)\n",
    "    saved_timing.average   # średni czas próby\n",
    "    saved_timing.stdev     # odchylenie standardowe\n",
    "    print('Memory usage: ')\n",
    "    %memit func(size)\n",
    "    print('\\n')"
   ]
  },
  {
   "cell_type": "markdown",
   "metadata": {},
   "source": [
    "***Zadanie 1.***  \n",
    "Zaimplementuj funkcje obliczające błąd względny i bezwzględny (*relative_error* i *absolut_error*).\n",
    "Funkcje przyjmują 2 argumenty: wartość dokładną oraz wartość przybliżoną, zwracając wartość błędu.\n",
    "Implementacja powinna obsługiwać zarówno wartości skalarne, listy oraz wektory i macierze typu np.array z zachowaniem zasad [broadcastingu](https://numpy.org/doc/stable/user/basics.broadcasting.html).\n",
    "\n",
    "**Wskazówka** Wykorzystuj funkcje *relative_error* i *absolut_error* w dalszej części laboratorium do analizy błędów."
   ]
  },
  {
   "cell_type": "code",
   "execution_count": 4,
   "metadata": {},
   "outputs": [
    {
     "name": "stdout",
     "output_type": "stream",
     "text": [
      "0.20000000000000018\n",
      "0.040000000000000036\n"
     ]
    }
   ],
   "source": [
    "print(main.absolut_error(5, 5.2))\n",
    "print(main.relative_error(5, 5.2))"
   ]
  },
  {
   "cell_type": "markdown",
   "metadata": {},
   "source": [
    "***Zadanie 2.***  \n",
    "Zaimplementuj funkcje *p_diff*, która przyjmuje jako parametry wartości całkowite $n$ i rzeczywiste $c$ oraz zwraca różnicę (co do wartości bezwzględnej)   dwóch wyrażeń $P_1$ oraz $P_2$:  \n",
    "  \n",
    "a) $P_1 = b - b + c $  \n",
    "b) $P_2 = b + c - b $  \n",
    "  \n",
    "gdzie $b = 2^n$\n",
    "\n",
    "Analizując różnicę w otrzymanych wynikach zastosuj warotści:  \n",
    "- $n \\in \\{1,2,3... 50\\}$\n",
    "- $c \\in \\{0.1, 0.125, 0.25, 0.33, 0.5, 0.6\\}$\n",
    " \n",
    "Następnie odpowiedź i zilustruj wykresami pytania:\n",
    "\n",
    "1. Jaki wynik powinniśmy otrzymać?\n",
    "2. Które z liczb mają skończoną a które nieskończoną reprezentację?    \n",
    "3. Dlaczego wyniki się od siebie różnią?    \n",
    "4. Jaki typ błędu tutaj występuje?\n",
    "5. Czy istnieje możliwość poprawy działania tych wyrażeń, jeżeli tak to w jaki sposób?  \n"
   ]
  },
  {
   "cell_type": "code",
   "execution_count": 12,
   "metadata": {},
   "outputs": [
    {
     "name": "stdout",
     "output_type": "stream",
     "text": [
      "8.326672684688674e-17\n",
      "0.0\n",
      "0.0\n",
      "1.7208456881689926e-15\n",
      "0.0\n",
      "0.09999999999999998\n"
     ]
    },
    {
     "data": {
      "image/png": "[encoded data removed]",
      "text/plain": [
       "<Figure size 432x288 with 1 Axes>"
      ]
     },
     "metadata": {
      "needs_background": "light"
     },
     "output_type": "display_data"
    },
    {
     "data": {
      "image/png": "[encoded data removed]",
      "text/plain": [
       "<Figure size 432x288 with 1 Axes>"
      ]
     },
     "metadata": {
      "needs_background": "light"
     },
     "output_type": "display_data"
    }
   ],
   "source": [
    "print(main.p_diff(1,0.1))\n",
    "print(main.p_diff(2,0.125))\n",
    "print(main.p_diff(3,0.25))\n",
    "print(main.p_diff(4,0.33))\n",
    "print(main.p_diff(10,0.5))\n",
    "print(main.p_diff(50,0.6))\n",
    "plt.figure()\n",
    "for i in range(1, 51):\n",
    "    plt.plot(i, main.p_diff(i,0.6), 'r*')\n",
    "plt.title('Błędy dla c będącego potęgą 2-ki')\n",
    "plt.show()\n",
    "plt.figure()\n",
    "for j in range(1, 51):\n",
    "    plt.plot(j, main.p_diff(j,0.5), 'b*')\n",
    "plt.title('Błędy dla c niebędącego potęgą 2-ki')    \n",
    "plt.show()"
   ]
  },
  {
   "cell_type": "markdown",
   "metadata": {},
   "source": [
    "Wyniki albo zwracają 0.0 (dla c będących potęgą dwójki), albo przybliżenie zera (dla c niebędących potęgą dwójki), stąd numeryczny wynik jest tylko przybliżeniem 0, co obrazują wykresy. Występuje tutaj typ błędu metody i zaokrągleń. "
   ]
  },
  {
   "cell_type": "markdown",
   "metadata": {},
   "source": [
    "***Zadanie 3.***  \n",
    "Wartości funkcji $\\mathrm{e}^{x}$ można obliczyć w przybliżeniu z szeregu Taylora w następujący sposób:  \n",
    "  \n",
    "$\\mathrm{e}^{x} \\approx \\sum\\limits_{i=0}^{N}{\\cfrac{1}{i!}x^{i}}$ \n",
    "  \n",
    "na podstawie przedstawionych informacji zaimplementuj funkcje *exponential* która oblicza $\\mathrm{e}^{x}$ z zadaną dokładnością $N$. Porównaj działanie utworzonej funkcji z [numpy.exp](https://docs.scipy.org/doc/numpy-1.15.1/reference/generated/numpy.exp.html). Odpowiedz na pytania:  \n",
    "\n",
    "1. Jaki typ błędu obrazuje omawiany przykład?\n",
    "2. Dokonaj analizy błędów bezwzględnych i względnych w zależności od wartości $n$."
   ]
  },
  {
   "cell_type": "code",
   "execution_count": 17,
   "metadata": {},
   "outputs": [
    {
     "name": "stdout",
     "output_type": "stream",
     "text": [
      "34.33333333333333 20.264816699810908 0.590237379606143\n",
      "54.15414462081129 0.4440054123329489 0.590237379606143\n",
      "54.598150032604906 5.393303581513464e-10 0.590237379606143\n",
      "54.598150033144265 2.842170943040401e-14 0.590237379606143\n",
      "54.598150033144236\n"
     ]
    }
   ],
   "source": [
    "a = main.exponential(4,5)\n",
    "b = main.exponential(4,10)\n",
    "c = main.exponential(4,24)\n",
    "d = main.exponential(4,100)\n",
    "good = np.exp(4)\n",
    "\n",
    "print(a, main.absolut_error(a, good), main.relative_error(a, good))\n",
    "print(b, main.absolut_error(b, good), main.relative_error(a, good))\n",
    "print(c, main.absolut_error(c, good), main.relative_error(a, good))\n",
    "print(d, main.absolut_error(d, good), main.relative_error(a, good))\n",
    "print(good)"
   ]
  },
  {
   "cell_type": "markdown",
   "metadata": {},
   "source": [
    "Mamy tutaj do czynienia z błędem przybliżenia. Im większe n tym błąd mniejszy (dążacy do zera). Należy również pamiętać, że przy zbyt dużym n będzie wyrzucało program, ponieważ float nie pomieści wartości wyliczonej z chociażby 1000! (zwłaszcza przy funkcji silni napisanej przeze mnie). Co ciekawe błąd względny niezależnie od przybliżenia zostaje taki sam."
   ]
  },
  {
   "cell_type": "markdown",
   "metadata": {},
   "source": [
    "***Zadania 4.***  \n",
    "Zaimplementuj 2 funkcje $coskx1$ i $coskx2$, realizujące rekurencyjnie przybliżanie wartości $cos(kx)$ w następujący sposób:\n",
    "\n",
    "- Metoda 1:         \n",
    "$cos(m+1)x = 2cosx \\cdot cos(mx) - cos(m-1)x$\n",
    "- Metoda 2:     \n",
    "$cos(mx) = cosx \\cdot cos(m-1)x - sinx \\cdot sin(m-1)x$       \n",
    "$sin(mx) = sinx \\cdot cos(m-1)x + cosx \\cdot sin(m-1)x$\n",
    "\n",
    "Następnie przeanalizuj otrzymane rezultaty dla różnych $k$.\n",
    "\n",
    "**Wskazówka** Do wyliczenia wartości $sin(x)$, $cos(x)$ (dla $k=1$) można użyć funkcji biblioteki numpy. \n",
    "Pozostałe wartości dla $k>1$ należy wyznaczyć rekurencyjnie."
   ]
  },
  {
   "cell_type": "code",
   "execution_count": 21,
   "metadata": {},
   "outputs": [
    {
     "name": "stdout",
     "output_type": "stream",
     "text": [
      "-1.0\n",
      "-1.0\n",
      "\n",
      "0.5000000000000002\n",
      "0.5000000000000001\n",
      "\n",
      "0.8090169943749479\n",
      "0.8090169943749475\n",
      "\n",
      "0.9009688679024228\n",
      "0.9009688679024191\n",
      "\n"
     ]
    }
   ],
   "source": [
    "print(main.coskx1(1,np.pi))\n",
    "print(np.cos(np.pi),end =\"\\n\\n\")\n",
    "\n",
    "print(main.coskx1(3,np.pi/9))\n",
    "print(np.cos(np.pi/3),end =\"\\n\\n\")\n",
    "\n",
    "print(main.coskx1(10,np.pi/50))\n",
    "print(np.cos(np.pi/5),end =\"\\n\\n\")\n",
    "\n",
    "print(main.coskx1(10,np.pi/70))\n",
    "print(np.cos(np.pi/7),end =\"\\n\\n\")"
   ]
  },
  {
   "cell_type": "markdown",
   "metadata": {},
   "source": [
    "Analiza dla metody pierwszej:\n",
    "\n",
    "Wyniki są bardzo zbliżone do siebie, a po zaokrągleniu były by identyczne. Możemy zauważyć, że dla zwiekszonych k, czyli zwiększonej liczby rekurencji, wyniki coraz bardziej odbiegają od realnych, co jest zrozumiałe."
   ]
  },
  {
   "cell_type": "code",
   "execution_count": 22,
   "metadata": {},
   "outputs": [
    {
     "name": "stdout",
     "output_type": "stream",
     "text": [
      "-1.0\n",
      "-0.9999999999999994\n",
      "-1.0\n",
      "\n",
      "1.0\n",
      "0.9999999999999998\n",
      "1.0\n",
      "\n",
      "0.5000000000000001\n",
      "0.5\n",
      "0.5000000000000001\n",
      "\n",
      "0.8660254037844386\n",
      "0.8660254037844384\n",
      "0.8660254037844386\n",
      "\n"
     ]
    }
   ],
   "source": [
    "print(main.coskx2(1,np.pi)[0])\n",
    "print(main.coskx2(10,np.pi/10)[0])\n",
    "print(np.cos(np.pi),end =\"\\n\\n\")\n",
    "\n",
    "print(main.coskx2(1,np.pi/2)[1])\n",
    "print(main.coskx2(5,np.pi/10)[1])\n",
    "print(np.sin(np.pi/2),end =\"\\n\\n\")\n",
    "\n",
    "print(main.coskx2(1,np.pi/3)[0])\n",
    "print(main.coskx2(10,np.pi/30)[0])\n",
    "print(np.cos(np.pi/3),end =\"\\n\\n\")\n",
    "\n",
    "print(main.coskx2(1,np.pi/3)[1])\n",
    "print(main.coskx2(10,np.pi/30)[1])\n",
    "print(np.sin(np.pi/3),end =\"\\n\\n\")\n"
   ]
  },
  {
   "cell_type": "markdown",
   "metadata": {},
   "source": [
    "Analiza dla metody drugiej:\n",
    "\n",
    "Druga metoda daje analogiczne rezultaty co pierwsza. Znowu należy zwrócić uwagę na przyjęcie nie za dużej liczby k, ponieważ program nie udzwignie takiej lości rekurencji."
   ]
  },
  {
   "cell_type": "markdown",
   "metadata": {},
   "source": [
    "***Zadanie 5.***  \n",
    "Wiedząc, że\n",
    "$\\begin{aligned}\n",
    "\\sum_{n=1}^{\\infty} \\cfrac{1}{n^2} = \\cfrac{1}{6} \\pi^2\n",
    "\\end{aligned}$,\n",
    "napisz kod w Pythonie (funkcja *pi*) obliczający przybliżenie liczby pi (nie korzystaj ze stałych <i>numpy.pi</i>, <i>math.pi</i> itp.). \n",
    "\n",
    "1. Z jakimi rodzajami błędów numerycznych mamy tu do czynienia? \n",
    "2. Sporządź wykresy błędów bezwzględnych i względnych w stosunku do stałej numpy.pi w zależności od wartości $n$.  \n",
    "\n",
    "**Wskazówka** Do wizualizacji wyników użyj skali logarytmicznej."
   ]
  },
  {
   "cell_type": "code",
   "execution_count": 27,
   "metadata": {},
   "outputs": [
    {
     "data": {
      "image/png": "[encoded data removed]",
      "text/plain": [
       "<Figure size 432x288 with 1 Axes>"
      ]
     },
     "metadata": {
      "needs_background": "light"
     },
     "output_type": "display_data"
    },
    {
     "data": {
      "image/png": "[encoded data removed]",
      "text/plain": [
       "<Figure size 432x288 with 1 Axes>"
      ]
     },
     "metadata": {
      "needs_background": "light"
     },
     "output_type": "display_data"
    }
   ],
   "source": [
    "n = [k for k in range(1,200)]\n",
    "y1 = []\n",
    "for i in range(0,len(n)):\n",
    "    y1.append(main.absolut_error(np.pi,main.pi(n[i])))\n",
    "plt.loglog(n, y1, 'g')\n",
    "plt.title(\"Błąd bezwzględny main.pi względem np.pi w zależności od długości szeregu\")\n",
    "plt.grid()\n",
    "\n",
    "y2 = []\n",
    "for j in range(0,len(n)):\n",
    "    y2.append(main.relative_error(np.pi,main.pi(n[j])))\n",
    "plt.figure()\n",
    "plt.loglog(n, y2, 'm')\n",
    "plt.title(\"Błąd względny main.pi względem np.pi w zależności od długości szeregu\")\n",
    "plt.grid()"
   ]
  },
  {
   "cell_type": "markdown",
   "metadata": {},
   "source": [
    "Błędy zmiejszają się wraz ze wzrostem liczby n. W przypadku tej funkcji możemy \"obciążyć\" funkcję stosunkowo dużą wartością argumentu n przez nieskomplikowaność obliczeń w tejże funkcji."
   ]
  },
  {
   "cell_type": "markdown",
   "metadata": {},
   "source": [
    "***Zadanie 6.***  \n",
    "Używając funkcji timeit oraz memit zbadaj czas działania oraz zużycie pamięci funkcji z Zadania 4 w zalożności od różnych wartości $n$.     \n",
    "Sporządź wykresy:\n",
    "- czasu obliczenia danego przybliżenia liczby pi w zależności od $n$. \n",
    "W tym celu wykorzystaj funkcje [errorbar](https://matplotlib.org/3.1.1/api/_as_gen/matplotlib.pyplot.errorbar.html) oraz zwracane przez *timeit* wartości średnie oraz ich odchylenie standardowe. \n",
    "- błędu bezwzględnego przybliżenia liczby pi od czasu jego wykonania.\n",
    "\n",
    "\n",
    "\n",
    "**Wskazówka** Użyj opcji -o (output) dla *timeit* aby zapisać wynik do zmiennej. Opcje -r (runs) i -n (ilość pentli) decydują o ilości wykonanych prób.     \n",
    "Do wizualizacji wyników użyj skali logarytmicznej."
   ]
  },
  {
   "cell_type": "code",
   "execution_count": 24,
   "metadata": {},
   "outputs": [
    {
     "name": "stdout",
     "output_type": "stream",
     "text": [
      "SIZE:  1\n",
      "Timing: \n",
      "1.64 µs ± 232 ns per loop (mean ± std. dev. of 5 runs, 10 loops each)\n",
      "Memory usage: \n",
      "peak memory: 106.62 MiB, increment: 0.01 MiB\n",
      "\n",
      "\n",
      "SIZE:  2\n",
      "Timing: \n",
      "1.13 µs ± 147 ns per loop (mean ± std. dev. of 5 runs, 10 loops each)\n",
      "Memory usage: \n",
      "peak memory: 106.62 MiB, increment: 0.00 MiB\n",
      "\n",
      "\n",
      "SIZE:  3\n",
      "Timing: \n",
      "1.35 µs ± 165 ns per loop (mean ± std. dev. of 5 runs, 10 loops each)\n",
      "Memory usage: \n",
      "peak memory: 106.62 MiB, increment: 0.00 MiB\n",
      "\n",
      "\n",
      "SIZE:  4\n",
      "Timing: \n",
      "1.56 µs ± 146 ns per loop (mean ± std. dev. of 5 runs, 10 loops each)\n",
      "Memory usage: \n",
      "peak memory: 106.62 MiB, increment: 0.00 MiB\n",
      "\n",
      "\n",
      "SIZE:  5\n",
      "Timing: \n",
      "1.79 µs ± 187 ns per loop (mean ± std. dev. of 5 runs, 10 loops each)\n",
      "Memory usage: \n",
      "peak memory: 106.62 MiB, increment: 0.00 MiB\n",
      "\n",
      "\n",
      "SIZE:  6\n",
      "Timing: \n",
      "1.96 µs ± 137 ns per loop (mean ± std. dev. of 5 runs, 10 loops each)\n",
      "Memory usage: \n",
      "peak memory: 106.62 MiB, increment: 0.00 MiB\n",
      "\n",
      "\n",
      "SIZE:  7\n",
      "Timing: \n",
      "2.17 µs ± 155 ns per loop (mean ± std. dev. of 5 runs, 10 loops each)\n",
      "Memory usage: \n",
      "peak memory: 106.62 MiB, increment: 0.00 MiB\n",
      "\n",
      "\n",
      "SIZE:  8\n",
      "Timing: \n",
      "2.44 µs ± 183 ns per loop (mean ± std. dev. of 5 runs, 10 loops each)\n",
      "Memory usage: \n",
      "peak memory: 106.62 MiB, increment: 0.00 MiB\n",
      "\n",
      "\n",
      "SIZE:  9\n",
      "Timing: \n",
      "2.72 µs ± 225 ns per loop (mean ± std. dev. of 5 runs, 10 loops each)\n",
      "Memory usage: \n",
      "peak memory: 106.62 MiB, increment: 0.00 MiB\n",
      "\n",
      "\n",
      "SIZE:  10\n",
      "Timing: \n",
      "2.76 µs ± 172 ns per loop (mean ± std. dev. of 5 runs, 10 loops each)\n",
      "Memory usage: \n",
      "peak memory: 106.62 MiB, increment: 0.00 MiB\n",
      "\n",
      "\n",
      "SIZE:  11\n",
      "Timing: \n",
      "2.94 µs ± 133 ns per loop (mean ± std. dev. of 5 runs, 10 loops each)\n",
      "Memory usage: \n",
      "peak memory: 106.62 MiB, increment: 0.00 MiB\n",
      "\n",
      "\n",
      "SIZE:  12\n",
      "Timing: \n",
      "3.27 µs ± 204 ns per loop (mean ± std. dev. of 5 runs, 10 loops each)\n",
      "Memory usage: \n",
      "peak memory: 106.62 MiB, increment: 0.00 MiB\n",
      "\n",
      "\n",
      "SIZE:  13\n",
      "Timing: \n",
      "3.59 µs ± 337 ns per loop (mean ± std. dev. of 5 runs, 10 loops each)\n",
      "Memory usage: \n",
      "peak memory: 106.62 MiB, increment: 0.00 MiB\n",
      "\n",
      "\n",
      "SIZE:  14\n",
      "Timing: \n",
      "3.58 µs ± 132 ns per loop (mean ± std. dev. of 5 runs, 10 loops each)\n",
      "Memory usage: \n",
      "peak memory: 106.62 MiB, increment: 0.00 MiB\n",
      "\n",
      "\n",
      "SIZE:  15\n",
      "Timing: \n",
      "3.78 µs ± 149 ns per loop (mean ± std. dev. of 5 runs, 10 loops each)\n",
      "Memory usage: \n",
      "peak memory: 106.62 MiB, increment: 0.00 MiB\n",
      "\n",
      "\n"
     ]
    },
    {
     "data": {
      "image/png": "[encoded data removed]",
      "text/plain": [
       "<Figure size 432x288 with 1 Axes>"
      ]
     },
     "metadata": {
      "needs_background": "light"
     },
     "output_type": "display_data"
    },
    {
     "data": {
      "image/png": "[encoded data removed]",
      "text/plain": [
       "<Figure size 432x288 with 1 Axes>"
      ]
     },
     "metadata": {
      "needs_background": "light"
     },
     "output_type": "display_data"
    }
   ],
   "source": [
    "n = [i for i in range(1,16)]\n",
    "time = []\n",
    "std = []\n",
    "err = []\n",
    "\n",
    "for k in n:\n",
    "    print('SIZE: ', k)\n",
    "    print('Timing: ')\n",
    "    saved_timing = %timeit -r 5 -n 10 -o main.pi(k)\n",
    "    saved_timing.average   # średni czas próby\n",
    "    saved_timing.stdev     # odchylenie standardowe\n",
    "    print('Memory usage: ')\n",
    "    time.append(saved_timing.average)\n",
    "    std.append(saved_timing.stdev)\n",
    "    err.append(main.absolut_error(np.pi,main.pi(k)))\n",
    "    %memit main.pi(k)\n",
    "    print('\\n')\n",
    "plt.errorbar(n,time,yerr = std)\n",
    "plt.grid()\n",
    "plt.title(\"Czas obliczania przybliżenia liczby pi w zależności od wartości n, wraz z odchyleniem standardowym\")\n",
    "plt.show()\n",
    "plt.figure\n",
    "plt.plot(time,err,'r*')\n",
    "plt.grid()\n",
    "plt.title(\"Wartość błęu bezwględnego przybliżenia liczby pi w zależności od czasu jego wykonania\")\n",
    "plt.show()"
   ]
  },
  {
   "cell_type": "markdown",
   "metadata": {},
   "source": [
    "# Wnioski:"
   ]
  },
  {
   "cell_type": "markdown",
   "metadata": {},
   "source": [
    "Na tym laboratorium napisaliśmy własne numeryczne przybliżenia paru funkcji. Nie są one tak zoptymalizowane jak te wbudowane w bibliotekę numpy, ale mimo to dają bardzo dobry rezultat. Ogólnie rzecz biorąc im więcej było wykonanych iteracji/rekurenci w funkcji, tym lepiej ona przybliżała wartość rzeczywistą. Zapoznalismy się także z zagadnieniem złożoności czasowej i obliczeniowej robiąc odpowiednie testy."
   ]
  }
 ],
 "metadata": {
  "kernelspec": {
   "display_name": "Python 3 (ipykernel)",
   "language": "python",
   "name": "python3"
  },
  "language_info": {
   "codemirror_mode": {
    "name": "ipython",
    "version": 3
   },
   "file_extension": ".py",
   "mimetype": "text/x-python",
   "name": "python",
   "nbconvert_exporter": "python",
   "pygments_lexer": "ipython3",
   "version": "3.8.10"
  }
 },
 "nbformat": 4,
 "nbformat_minor": 2
}
